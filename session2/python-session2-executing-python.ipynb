{
 "cells": [
  {
   "cell_type": "markdown",
   "metadata": {},
   "source": [
    "# Session 2\n",
    "\n",
    "## The Python's natural habitat\n",
    "Python is a piece of software as well as a programming language. When installed on your PC your Python software distribution will be installed at \"c:\\Python36\", where 36 represents the major and minor version i.e. Python Version 3.6.\n",
    "\n",
    "Sitting within this location is an executable file called \"python.exe\". This is a computer program called the \"Python Interpreter\" and it's what allows your computer to understand and execute code in the Python programming language. \n",
    "\n",
    "Everything else contained within \"c:\\Python36\" are the data, libraries and computer programs that make up the \"Python Software\". It's unnecessary to understand what these are for now but we will revisit at a later time when we need to install packages.\n",
    "\n",
    "## The command line\n",
    "The command line is the place where you write commands. In Windows it can be accessed by typing cmd in the Windows Start bar, and pressing enter. This runs 'cmd.exe'. What then pops up is known as a shell or a console. The command line in Windows is characterised by the prompt, which is represented by the text \"C:\\your\\current\\location> \" and a flashing underscore, indicating that is ready to take commands.\n",
    "\n",
    "The Windows CMD provides an interface to the Windows OS using a set of built-in commands, here are a few common ones:\n",
    "\n",
    "* `cd c:\\my\\directory\\location` will **C**hange **D**irectory to the path given\n",
    "* `cd` with no arguments prints the current working directory (also usually displayed by the prompt)\n",
    "* `dir` will print a list of files and directories in the current working directory\n",
    "* `mkdir new_folder` will **m**a**k**e a new directory in the current working directory \n",
    "* `echo Hello World!` will print 'Hello World!' to the console\n",
    "* `echo Hello World! > hello.txt` will save the text 'Hello World!' to a file in the current working directory called hello.txt , overwritng any existing file\n",
    "* `mv my_folder ..\\new_location` will **m**o**v**e my_folder to the new_location, which is a directory one level above the current working directory (represented by '..')\n",
    "\n",
    "### Adding Python to the %PATH%\n",
    "\n",
    "The command line can also interpret commands outside of the built-in functions if the Windows OS knows where to look for the software to interpret them correctly. The environment variable that governs where the operating system looks for this software is called the __path__, and as it is a Windows environment variable it is denoted as `%PATH%`.\n",
    "\n",
    "Let's demonstrate what we mean by this by using the Python Interpreter (python.exe) as an example. If python.exe does not exist on the path, if you type `python` into the command line you will receive the following error message:\n",
    "> 'python' is not recognized as an internal or external command, operable program or batch file.\n",
    "\n",
    "You can check what locations exists on your system path by typing `echo %path%` into the command line. You may have quite a few locations listed, and they won't necessarily be printed in a visually pleasing way, but look for the location \"c:\\Python36\" in your `%PATH%`. If it doesn't exist then you will not be able to execute Python commands from your command line.\n",
    "\n",
    "Here's how you set the `%PATH%` variable to include Python. Type \"Environment\" into your Windows Start menu and select \"Edit environment variables for your account\". Under \"User variables\", click new, and provide the following information:\n",
    "\n",
    "* Variable name: \n",
    "> PATH\n",
    "* Variable value: \n",
    "> %PATH%;C:\\Python36;C:\\Python36\\Library\\mingw-w64\\bin;C:\\Python36\\Library\\usr\\bin;C:\\Python36\\Library\\bin;C:\\Python36\\Scripts;C:\\Users\\edmunm\\AppData\\Roaming\\Python\\Python36\\Scripts\n",
    "\n",
    "This should provide all the locations you need to be able to execute Python commands from the Windows CMD. Now if you enter `python` in the command line, it should launch an interactive session of Python in the command line - hurrah!\n",
    "\n",
    "## Playing with Python\n",
    "Now that you have a Python interactive session (characterised by a new prompt: \">>>\") you can type in Python commands and the computer will execute them as you expect.\n",
    "\n",
    "Type in `print('Hello World!')` to get started (some Jupyter code cells will be provided to work in this notebook if you'd prefer)."
   ]
  },
  {
   "cell_type": "code",
   "execution_count": null,
   "metadata": {
    "collapsed": true
   },
   "outputs": [],
   "source": [
    "# Print 'Hello World!' below\n"
   ]
  },
  {
   "cell_type": "markdown",
   "metadata": {},
   "source": [
    "Now try defining two integer variables and performing some mathematical operations on them:\n",
    "\n",
    "* `*` is the multiplcation operator.\n",
    "* `/` is the division operator.\n",
    "* To calculate exponentiation in Python use the `**` operator. `x ** y` i.e. x to the power of y.\n",
    "* To calculate the modulus use the `%` operator - the modulus gives the remainder of any division.\n",
    "* To calculate a floor division use the `//` operator - means that the outcome is rounded down to the nearest whole number."
   ]
  },
  {
   "cell_type": "code",
   "execution_count": null,
   "metadata": {
    "collapsed": true
   },
   "outputs": [],
   "source": [
    "# Define two variables x and y\n",
    "x = \n",
    "y = "
   ]
  },
  {
   "cell_type": "code",
   "execution_count": null,
   "metadata": {
    "collapsed": true
   },
   "outputs": [],
   "source": [
    "# Add x and y together and assign it to z\n"
   ]
  },
  {
   "cell_type": "code",
   "execution_count": null,
   "metadata": {
    "collapsed": true
   },
   "outputs": [],
   "source": [
    "# Multiply x and y together\n"
   ]
  },
  {
   "cell_type": "code",
   "execution_count": null,
   "metadata": {
    "collapsed": true
   },
   "outputs": [],
   "source": [
    "# Get the exponent of x to y \n"
   ]
  },
  {
   "cell_type": "code",
   "execution_count": null,
   "metadata": {
    "collapsed": true
   },
   "outputs": [],
   "source": [
    "# Divide y by x\n"
   ]
  },
  {
   "cell_type": "code",
   "execution_count": null,
   "metadata": {
    "collapsed": true
   },
   "outputs": [],
   "source": [
    "# Minus 2 from x and assign to x\n"
   ]
  },
  {
   "cell_type": "code",
   "execution_count": null,
   "metadata": {
    "collapsed": true
   },
   "outputs": [],
   "source": [
    "# Get the modulus of y % x - can you explain what's happening?\n"
   ]
  },
  {
   "cell_type": "code",
   "execution_count": 1,
   "metadata": {
    "collapsed": true
   },
   "outputs": [],
   "source": [
    "# Take your largest variable and perform a floor division of the other variable - does it do what you expect?\n"
   ]
  },
  {
   "cell_type": "markdown",
   "metadata": {},
   "source": [
    "### Writing Scripts in a Text Editor\n",
    "Now that you have run and executed your first commands in an interactive Python session, let's move on to writing a set of commands as part of a Python script. All a Python script is, is a text file saved with the \".py\" filename extension. In more general terms, you may hear the terms source code or batch file to describe a script that can be executed.\n",
    "\n",
    "If you are still running the Python interactive environment from the previous section, type `exit()` to halt the Python interpreter and return back to the Windows CMD prompt. Let's switch programs to write our script.\n",
    "\n",
    "Open a text editor - any will do! All Windows machines tend to have Notepad installed - this is basic text editor, as bog standard as it gets. If you want some more functionality that is better suited to developers, then I suggest you request for Notepad++ to be downloaded, it's also much better to look at!\n",
    "\n",
    "Create a new file and begin typing. First let's put a comment to describe the file. Comments in computer programming are lines of text that are ignored by the interpreter/compiler when executing the code and do not influence the output of the program. They are useful for annotating your code to help the reader (and yourself) make sense of the code you've written. They can also be useful for blocking out sections of code that need some work before being able to run with the expected output.\n",
    "\n",
    "Each programming language may have a different way of starting a comment."
   ]
  },
  {
   "cell_type": "code",
   "execution_count": 3,
   "metadata": {},
   "outputs": [],
   "source": [
    "# In Python a hashtag signifies the start of an in-line comment.\n",
    "this_is = 'not a comment' # You can even start comments after some actual code\n"
   ]
  },
  {
   "cell_type": "markdown",
   "metadata": {},
   "source": [
    "After you have written a comment, such as `# My first program!`, write the next line of your program, the actual code to be interpreted. Let's use the same as we used earlier, `print('Hello World!')`, and then save the file. Remember to use the .py filename extension and save it in the directory you want to work from.\n",
    "\n",
    "Now let's return to the command line and navigate to the folder where we just saved the file, using the `cd` command described previously. We can now run the file as a Python script, using the `python` command. So go ahead and run the file. Type `python your_file_name.py` and press enter. Because the location with the Python interpreter, python.exe, has been added to the `%PATH%` environment variable, when you use the `python` command your computer knows where to search for the program to execute Python code. You should see the output from your file printed to the console. You've just executed your first file from the command line!\n",
    "\n",
    "A few points to note:\n",
    "* Had we not been in the same working directory as the file we were trying to execute, simply passing the filename would not have worked. Instead you would have to pass either the full filepath e.g. `C:\\Users\\Documents\\my_file.py`, or the relative filepath (relative to your current working directory) e.g. say we know the file is in another directory, within the directory that holds our current working directory (see diagram), we can navigate there using the command `cd ..\\scripts\\my_file.py`\n",
    "\n",
    "![file structure](cd-demo.png)\n",
    "\n",
    "* Rather than executing Python scripts from the command line, you can set the default program for .py files to be the `python.exe` interpeter located in `C:\\Python36`. To do that you need to do the following steps:\n",
    "\n",
    "    1. Right click on a .py file, hover over \"Open with\" and select \"Choose default program...\"\n",
    "    2. Click on 'Browse...' and navigate to `C:\\Python36`\n",
    "    3. Select `python.exe`, and tick \"Always use the selected program to open this kind of file\"\n",
    "    4. Click OK, and you should see a little Python icon next to your .py files.\n",
    "    \n",
    "Now all you need to do is to double click on a .py script to run it with Python. When you do this, the console will pop up, print any outputs, and then close instantaneously. So with this approach you will not be able to check any outputs that are printed to the console. But if you writing your outputs to a file then this approach is absolutely fine.\n",
    "\n",
    "## Coding challenge\n",
    "The following coding challenge has been sourced from: https://www.practicepython.org/\n",
    "\n",
    "The coding challenge below introduces the following concepts:\n",
    "* Getting user input\n",
    "* Manipulating strings\n",
    "* Mathematical operators\n",
    "* Changing types\n",
    "\n",
    "### Getting user input\n",
    "To get user input in Python (3), the function you need to use is `input()`. Pass a string as an argument to the function, and it will print that string as a prompt to the user. When the program encounters `input()` it will pause execution and wait for the user to type something and press ENTER. Once ENTER has been pressed the program continues executing. You can assign the result to a variable and use however you like! The result will always be stored as a string, even if they enter a number - so you will need to change the type in order to do mathematical operations.\n",
    "\n",
    "Here's a quick demo:"
   ]
  },
  {
   "cell_type": "code",
   "execution_count": 5,
   "metadata": {},
   "outputs": [
    {
     "name": "stdout",
     "output_type": "stream",
     "text": [
      "Give me an 'O': O\n",
      "Give me an 'N': N\n",
      "Give me an 'S': S\n",
      "What have you got!\n",
      "ONS\n"
     ]
    }
   ],
   "source": [
    "first_letter = input('Give me an \\'O\\': ')\n",
    "second_letter = input('Give me an \\'N\\': ')\n",
    "third_letter = input('Give me an \\'S\\': ')\n",
    "print('What have you got!')\n",
    "print(first_letter + second_letter + third_letter)"
   ]
  },
  {
   "cell_type": "markdown",
   "metadata": {},
   "source": [
    "### Manipulating strings\n",
    "Using the `+` operator with two strings combines them together - this is known as **concatentation**.\n",
    "Multiplying a string repeats it x number of times.\n",
    "\n",
    "Some characters can be 'escaped' in strings using the escape character backslash `\\`:\n",
    "\n",
    "* `'\\n'` will not print a backslash or an 'n' - instead it print s a newline.\n",
    "\n",
    "* Similarly, `'\\t'` will print a tab.\n",
    "\n",
    "* It is also used to escape characters that have a special meaning in the Python syntax: e.g. quotations and double quotations - `\\\"` or `\\'` prints quotation marks - take a look at the previous example, and see what would happen without the escape character.\n",
    "\n",
    "An escape character \"invokes an alternative interpretation.\"\n",
    "\n",
    "A demo:"
   ]
  },
  {
   "cell_type": "code",
   "execution_count": 7,
   "metadata": {},
   "outputs": [
    {
     "name": "stdout",
     "output_type": "stream",
     "text": [
      "The quick brown fox jumps over the lazy dog.\n",
      "Lois\n",
      "Lois\n",
      "Lois\n",
      "Lois\n",
      "Lois\n",
      "Lois\n",
      "Lois\n",
      "\n"
     ]
    }
   ],
   "source": [
    "one_half = 'The quick brown fox'\n",
    "second_half = 'jumps over the lazy dog.'\n",
    "sentence = one_half + ' ' + second_half # Space character in the middle\n",
    "print(sentence)\n",
    "\n",
    "# A function is defined to repeat the word \"Lois\".\n",
    "def stewie(x):\n",
    "    print(x * 'Lois\\n')\n",
    "\n",
    "# It is then called with the number 7. This will print Lois seven times.\n",
    "stewie(7)"
   ]
  },
  {
   "cell_type": "markdown",
   "metadata": {},
   "source": [
    "## The challenge\n",
    "Write a script and execute using one of the methods described in this session, or in the Jupyter Notebook cells below.\n",
    "\n",
    "> Create a program that asks the user their name and their age. Print out a message addressed to them that tells them the year that they will turn 100 years old.\n",
    "\n",
    "Extras:\n",
    "* Add on to the previous program by asking the user for another number and printing out that many copies of the previous message.\n",
    "* Print out that many copies of the previous message on separate lines. (Hint: the string \"\\n is the same as pressing the ENTER button)\n"
   ]
  },
  {
   "cell_type": "code",
   "execution_count": null,
   "metadata": {
    "collapsed": true
   },
   "outputs": [],
   "source": [
    "# Write your solution to the main part here - solution is available in the file session2_solution.py\n"
   ]
  },
  {
   "cell_type": "code",
   "execution_count": null,
   "metadata": {
    "collapsed": true
   },
   "outputs": [],
   "source": [
    "# Write your solution to Extra 1 here\n"
   ]
  },
  {
   "cell_type": "code",
   "execution_count": null,
   "metadata": {
    "collapsed": true
   },
   "outputs": [],
   "source": [
    "# Write your solution to Extra 2 here\n"
   ]
  }
 ],
 "metadata": {
  "kernelspec": {
   "display_name": "Python 3",
   "language": "python",
   "name": "python3"
  },
  "language_info": {
   "codemirror_mode": {
    "name": "ipython",
    "version": 3
   },
   "file_extension": ".py",
   "mimetype": "text/x-python",
   "name": "python",
   "nbconvert_exporter": "python",
   "pygments_lexer": "ipython3",
   "version": "3.6.1"
  }
 },
 "nbformat": 4,
 "nbformat_minor": 2
}
