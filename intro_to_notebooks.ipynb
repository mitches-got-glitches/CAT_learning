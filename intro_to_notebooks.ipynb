{
 "cells": [
  {
   "cell_type": "markdown",
   "metadata": {},
   "source": [
    "# A Brief Intro to Jupyter Notebooks\n",
    "A Jupyter Notebook is a great tool for doing exploratory analyses on datasets. You can include code, output, and markdown text to provide a running commentary of the analysis. This also makes it useful from a teaching aspect. Below is a lightning fast intro into so that you can start to use Jupyter Notebooks for your own analysis.\n",
    "\n",
    "For more detailed tutorials check out the following links:\n",
    "* [Real Python - Jupyter Notebooks: An Introduction](https://realpython.com/jupyter-notebook-introduction/)\n",
    "* [DataQuest - Jupyter Notebook for Beginners: A Tutorial](https://www.dataquest.io/blog/jupyter-notebook-tutorial/)\n",
    "* [DataCamp - Jupyter Notebook Tutorial: The Definitive Guide](https://www.datacamp.com/community/tutorials/tutorial-jupyter-notebook)\n",
    "\n",
    "### Two key concepts\n",
    "The two key concepts you need to know about in Jupyter Notebooks are:\n",
    "\n",
    "1. Kernels\n",
    "2. Cells\n",
    "\n",
    "The kernel is the programming language engine running in the background, that creates the environment for us to execute code. This Notebook is running a Python 3 kernel but other versions, and even other language engines are available. Sometimes the kernel can hang or get stuck in a loop. You can interrupt or restart it under the \"Kernel\" tab in the menu. Test out the options a bit later on.\n",
    "\n",
    "The key feature of Jupyter Notebooks is that the notebook can be broken down into chunks called cells. There are two types of cell to note:\n",
    "\n",
    "1. Code cells\n",
    "2. Markdown cells\n",
    "\n",
    "Code cells are where you can type and execute Python code to run in the current kernel. Markdown cells are cells where you can write text in the markdown mark-up language. We won't cover markdown here but there is plenty of help online - here's one example: https://commonmark.org/help/\n",
    "\n",
    "This cell right here is a markdown cell! You can change the cell type under the \"Cell\" menu. The current cell is highlighted green if it is in editing mode, or blue if it is in command mode. Click on a cell to enter straight to editing mode, or click to the left of a cell to select it for command mode.\n",
    "\n",
    "You can insert new cells above or below the selected cell using the \"Insert\" menu."
   ]
  },
  {
   "cell_type": "code",
   "execution_count": 11,
   "metadata": {},
   "outputs": [
    {
     "name": "stdout",
     "output_type": "stream",
     "text": [
      "Hello world!\n"
     ]
    }
   ],
   "source": [
    "# This is a code cell\n",
    "# Execute to display the output using CTRL + ENTER\n",
    "print(\"Hello world!\")"
   ]
  },
  {
   "cell_type": "code",
   "execution_count": 2,
   "metadata": {},
   "outputs": [
    {
     "data": {
      "text/plain": [
       "8"
      ]
     },
     "execution_count": 2,
     "metadata": {},
     "output_type": "execute_result"
    }
   ],
   "source": [
    "# When evaluating expressions, only the last expression is outputted \n",
    "a = 5\n",
    "b = 3\n",
    "a * b\n",
    "a + b"
   ]
  },
  {
   "cell_type": "code",
   "execution_count": 3,
   "metadata": {},
   "outputs": [
    {
     "name": "stdout",
     "output_type": "stream",
     "text": [
      "15\n",
      "8\n"
     ]
    }
   ],
   "source": [
    "# Unless explicit print() statements are called\n",
    "print(a * b)\n",
    "print(a + b)"
   ]
  },
  {
   "cell_type": "code",
   "execution_count": 10,
   "metadata": {},
   "outputs": [
    {
     "name": "stdout",
     "output_type": "stream",
     "text": [
      "['In', 'Out', '_', '_2', '_4', '_5', '_6', '__', '___', '__builtin__', '__builtins__', '__doc__', '__loader__', '__name__', '__package__', '__spec__', '_dh', '_i', '_i1', '_i10', '_i2', '_i3', '_i4', '_i5', '_i6', '_i7', '_i8', '_i9', '_ih', '_ii', '_iii', '_oh', '_sh', 'a', 'b', 'exit', 'get_ipython', 'quit']\n",
      "\n",
      "\n",
      "a is in current environment: True\n",
      "b is in current environment: True\n"
     ]
    }
   ],
   "source": [
    "# When variables or objects are defined (and the code executed) in Jupyter Notebooks\n",
    "# They become available to other cells (they are defined in the environment)\n",
    "\n",
    "# Check for existence of a and b in the environment\n",
    "print(dir())\n",
    "print('\\n')\n",
    "print(\"a is in current environment: {0}\".format('a' in dir()))\n",
    "print(\"b is in current environment: {0}\".format('b' in dir()))"
   ]
  },
  {
   "cell_type": "markdown",
   "metadata": {},
   "source": [
    "The order of execution of a cell matters, and not necessarily the order of the cells themselves (although it is best practice to define variables in order so you can use the \"Restart and run all option\" under the \"Kernel\" menu). \n",
    "\n",
    "The number next to a code cell tells you the order of when they were executed.\n",
    "\n",
    "To demonstrate, if you execute the 2nd cell below first, then the 1st cell, you should receive the correct output. However, if you Restart and run all you will get an error."
   ]
  },
  {
   "cell_type": "code",
   "execution_count": 14,
   "metadata": {},
   "outputs": [
    {
     "data": {
      "text/plain": [
       "28"
      ]
     },
     "execution_count": 14,
     "metadata": {},
     "output_type": "execute_result"
    }
   ],
   "source": [
    "random.randint(1, 31)"
   ]
  },
  {
   "cell_type": "code",
   "execution_count": 13,
   "metadata": {
    "collapsed": true
   },
   "outputs": [],
   "source": [
    "import random"
   ]
  },
  {
   "cell_type": "markdown",
   "metadata": {},
   "source": [
    "### Keyboard Shortcuts\n",
    "There are some keyboard shortcuts to make navigation easier in Jupyter Notebooks. You can find a full list here on [Towards Data Science](https://towardsdatascience.com/jypyter-notebook-shortcuts-bf0101a98330).\n",
    "\n",
    "* **Esc** - Enter command mode\n",
    "* **Enter** -Enter edit mode \n",
    "\n",
    "When in command mode:\n",
    "* **H** - View keyboard shortcuts\n",
    "* **A** - New cell above\n",
    "* **B** - New cell below\n",
    "* **M** - Change cell type to markdown\n",
    "* **Y** - Change cell type to code\n",
    "* **X** - Cut cell\n",
    "* **V** - Paste cell\n",
    "* **DD** - Delete selected cell"
   ]
  }
 ],
 "metadata": {
  "kernelspec": {
   "display_name": "Python 3",
   "language": "python",
   "name": "python3"
  },
  "language_info": {
   "codemirror_mode": {
    "name": "ipython",
    "version": 3
   },
   "file_extension": ".py",
   "mimetype": "text/x-python",
   "name": "python",
   "nbconvert_exporter": "python",
   "pygments_lexer": "ipython3",
   "version": "3.6.1"
  }
 },
 "nbformat": 4,
 "nbformat_minor": 2
}
