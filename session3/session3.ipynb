{
 "cells": [
  {
   "cell_type": "markdown",
   "metadata": {},
   "source": [
    "# Challenge 1 - Odd or even?\n",
    "\n",
    "The first challenge is this:\n",
    "\n",
    "> Ask the user for a number. Depending on whether the number is even or odd, print out an appropriate message.\n",
    "\n",
    "The concepts that will be covered in this challenge are the following:\n",
    "\n",
    "* Modular arithmetic (the modulus operator)\n",
    "* Conditionals (if statements)\n",
    "* Checking equality\n",
    "\n",
    "Let's introduce you to the concepts...\n",
    "\n",
    "### Modular Arithmetic\n",
    "\n",
    "Often it is useful for us to find not an answer to a division problem but the remainder when we do a division operation. This operation is called the “modulus operation.” For example, when I divide 5 by 3, the remainder is 2, and the sentence reads like this: “5 modulo 3 is 2.”\n",
    "\n",
    "In Python the % sign is the modulus operator."
   ]
  },
  {
   "cell_type": "code",
   "execution_count": null,
   "metadata": {
    "collapsed": true
   },
   "outputs": [],
   "source": [
    "5 % 3"
   ]
  },
  {
   "cell_type": "code",
   "execution_count": null,
   "metadata": {
    "collapsed": true
   },
   "outputs": [],
   "source": [
    "6 % 3"
   ]
  },
  {
   "cell_type": "code",
   "execution_count": null,
   "metadata": {
    "collapsed": true
   },
   "outputs": [],
   "source": [
    "7 % 3"
   ]
  },
  {
   "cell_type": "markdown",
   "metadata": {},
   "source": [
    "Consider the following problem. You are given a time from a 24h clock and you want to convert the time to a 12h clock time. How would you go about it?"
   ]
  },
  {
   "cell_type": "code",
   "execution_count": null,
   "metadata": {
    "collapsed": true
   },
   "outputs": [],
   "source": [
    "2 % 12"
   ]
  },
  {
   "cell_type": "code",
   "execution_count": null,
   "metadata": {
    "collapsed": true
   },
   "outputs": [],
   "source": [
    "14 % 12"
   ]
  },
  {
   "cell_type": "code",
   "execution_count": null,
   "metadata": {
    "collapsed": true
   },
   "outputs": [],
   "source": [
    "20 % 12"
   ]
  },
  {
   "cell_type": "code",
   "execution_count": null,
   "metadata": {
    "collapsed": true
   },
   "outputs": [],
   "source": [
    "12 % 12"
   ]
  },
  {
   "cell_type": "markdown",
   "metadata": {},
   "source": [
    "### Conditionals (if statements)\n",
    "When a computer (or a program) needs to decide something, it checks whether some condition is satisfied, which is where the term conditional comes from. Conditionals are a fancy way of saying “if statements”.  In Python this works the same way:"
   ]
  },
  {
   "cell_type": "code",
   "execution_count": null,
   "metadata": {
    "code_folding": [],
    "collapsed": true
   },
   "outputs": [],
   "source": [
    "wake_up = float(input('What time do you wake up? '))\n",
    "\n",
    "if wake_up < 6.5:\n",
    "    print('This person is a morning lark.')\n",
    "elif wake_up >= 6.5 and wake_up < 8.5:\n",
    "    print('This person is somewhere in the middle.')\n",
    "else:\n",
    "    print('This person is a probably a night owl (or has a hangover!)')"
   ]
  },
  {
   "cell_type": "markdown",
   "metadata": {},
   "source": [
    "When the program gets to the if statement, it will check the value of the variable called `wake_up` against all of the conditions, in order, and will print something to the screen accordingly. If the condition is not satisfied, then the program will not execute the code indented below the if statement. Note that elif is a portmanteau of “else” and “if”. So if the variable `wake_up` holds the value 7, the statement \"This person is somewhere in the middle.\" will be printed to the screen.\n",
    "\n",
    "Note how the statement `elif wake_up >= 6.5 and wake_up < 8.5` has the statement `and` - you can use `or` and `not` in the same way. Understanding a bit about logic and how it works, or being able to rationally think about logic will help you get the conditions right.\n",
    "\n",
    "You can think of \"if\" and \"else\" statements as working similar to a control flow diagram, where the flow diagram directs down a different path depending on the outcome of the conditional.\n",
    "\n",
    "![if else flow](if_else_statement.jpg)\n",
    "\n",
    "Links about conditionals:\n",
    "\n",
    "* [The official Python documentation](https://docs.python.org/3.3/tutorial/controlflow.html)\n",
    "* [w3schools Tutorial on If statements](https://www.w3schools.com/python/python_conditions.asp)\n",
    "* [Python for beginners explains conditionals](https://www.pythonforbeginners.com/basics/python-if-elif-else-statement/)"
   ]
  },
  {
   "cell_type": "markdown",
   "metadata": {},
   "source": [
    "### Checking for equality (and comparators in general)\n",
    "A fundamental thing you want to do with your program is check whether some number is equal to another. Say the user tells you how many questions they answered incorrectly on a practice exam, and depending on the number of correctly-answered questions, you can suggest a specific course of action. For integers, strings, floats, and many other variable types, this is done with a simple syntax: `==`. To explicitly check inequality, use `!=`."
   ]
  },
  {
   "cell_type": "code",
   "execution_count": null,
   "metadata": {
    "collapsed": true
   },
   "outputs": [],
   "source": [
    "if a == 3:\n",
    "    print('the variable has value 3')\n",
    "elif a != 3:\n",
    "    print('the variable does not have the value 3')"
   ]
  },
  {
   "cell_type": "markdown",
   "metadata": {},
   "source": [
    "Notice how in this example, the condition is redundant. In the first condition we are checking whether the variable a has the value 3 and in the second, we are checking whether a does NOT have the value 3. However, if the first condition is not true (a is in fact not 3), then the second condition is by definition true. So a more efficient way to write the above conditional is like this:"
   ]
  },
  {
   "cell_type": "code",
   "execution_count": null,
   "metadata": {
    "collapsed": true
   },
   "outputs": [],
   "source": [
    "if a == 3:\n",
    "    print('the variable has value 3')\n",
    "else:\n",
    "    print('the variable does not have the value 3')"
   ]
  },
  {
   "cell_type": "markdown",
   "metadata": {},
   "source": [
    "The same equality / inequality comparisons work for strings.\n",
    "\n",
    "Links about equality and comparators:\n",
    "\n",
    "* [The official Python documentation](https://docs.python.org/3.3/library/stdtypes.html?highlight=comparison#comparisons)"
   ]
  },
  {
   "cell_type": "markdown",
   "metadata": {},
   "source": [
    "### Concepts from last week (recap)\n",
    "\n",
    "**User Inputs**\n",
    "* You can accept user inputs with the `input()` function.\n",
    "* Pass a string as the argument to the `input()` function to print a prompt for the user.\n",
    "* Using a colon and a space makes things clearer for the user e.g. \"Type here: \"\n",
    "* You can assign the input to a variable to use as you like e.g. `my_var = input('Type a var: ')`\n",
    "* User input is always stored as a string. Convert to a number type if you want to do arithmetic.\n",
    "\n",
    "**Type coercion (changing type)**\n",
    "* Each object or variable in Python has a different 'data type' or 'type'.\n",
    "* You can check the type of an object using built-in function `type(obj)`.\n",
    "* Some variables cannot be coerced to certain types, e.g. the string 'abc' cannot be an int or float.\n",
    "* Almost all objects/variables can be coerced to a string using `str()`.\n",
    "\n",
    "For information on Python built-in functions, check the documentation:\n",
    "* [Built-in functions](https://docs.python.org/3/library/functions.html)\n"
   ]
  },
  {
   "cell_type": "code",
   "execution_count": null,
   "metadata": {
    "collapsed": true
   },
   "outputs": [],
   "source": [
    "# You can check the built-in functions with this command\n",
    "dir(__builtin__)"
   ]
  },
  {
   "cell_type": "markdown",
   "metadata": {},
   "source": [
    "### Back to the challenge\n",
    "\n",
    "> Ask the user for a number. Depending on whether the number is even or odd, print out an appropriate message.\n",
    "\n",
    "**Extras:**\n",
    "\n",
    "1. If the number is a multiple of 4, print out a different message.\n",
    "2. Ask the user for two numbers: one number to check (call it num) and one number to divide by (check). If check divides evenly into num, tell that to the user. If not, print a different appropriate message."
   ]
  },
  {
   "cell_type": "code",
   "execution_count": null,
   "metadata": {
    "collapsed": true
   },
   "outputs": [],
   "source": [
    "# Use the following cell/s for your solution\n"
   ]
  },
  {
   "cell_type": "code",
   "execution_count": null,
   "metadata": {
    "collapsed": true
   },
   "outputs": [],
   "source": [
    "\n"
   ]
  },
  {
   "cell_type": "code",
   "execution_count": null,
   "metadata": {
    "collapsed": true
   },
   "outputs": [],
   "source": [
    "\n"
   ]
  },
  {
   "cell_type": "code",
   "execution_count": null,
   "metadata": {
    "collapsed": true
   },
   "outputs": [],
   "source": [
    "\n"
   ]
  },
  {
   "cell_type": "code",
   "execution_count": null,
   "metadata": {
    "collapsed": true
   },
   "outputs": [],
   "source": [
    "# Type solution() to reveal the solution\n",
    "from odd_or_even import solution\n"
   ]
  },
  {
   "cell_type": "markdown",
   "metadata": {},
   "source": [
    "# Challenge 2 - List less than 10\n",
    "The second challenge is:\n",
    "\n",
    "> Take a list, say for example this one:\n",
    "\n",
    "> `a = [1, 1, 2, 3, 5, 8, 13, 21, 34, 55, 89]`\n",
    "\n",
    "> and write a program that prints out all the elements of the list that are less than 5.\n",
    "\n",
    "The concepts that will be covered in this challenge are the following:\n",
    "1. Lists\n",
    "2. More conditionals (if statements)\n",
    "\n",
    "Let's introduce you to the concepts...\n",
    "\n",
    "### Lists\n",
    "This week’s exercise hits on a topic critical for all types and styles of programming: **lists**. Lists are basically an ordered way of grouping things (called **elements**) - the cool thing about lists in Python is that you can have a list that contains objects of multiple types. Your list can mix between strings, integers, objects, other lists, what have you.\n",
    "\n",
    "You construct a list in Python using square brackets. The way to construct an empty list is just to do:"
   ]
  },
  {
   "cell_type": "code",
   "execution_count": null,
   "metadata": {
    "collapsed": true
   },
   "outputs": [],
   "source": [
    "x = []\n",
    "print(x)"
   ]
  },
  {
   "cell_type": "markdown",
   "metadata": {},
   "source": [
    "Your variable `x` now holds an empty list. To add things to this list, just \"append\" them to the list. Like so:"
   ]
  },
  {
   "cell_type": "code",
   "execution_count": null,
   "metadata": {
    "collapsed": true
   },
   "outputs": [],
   "source": [
    "x = []\n",
    "x.append(3)\n",
    "print(x)"
   ]
  },
  {
   "cell_type": "markdown",
   "metadata": {},
   "source": [
    "Note that when you use a list method, such as `.append()`, it modifies the list *in-place*. Therefore you do not need to reassign `x` as `x.append(3)`, since the original variable has already been modified in-place. Reassigning will return a NoneType, see below. Since the code still runs, you would describe this behaviour as a *bug* if it existed in your code, since the behaviour is undesired."
   ]
  },
  {
   "cell_type": "code",
   "execution_count": null,
   "metadata": {
    "collapsed": true
   },
   "outputs": [],
   "source": [
    "x = []\n",
    "x = x.append(3)\n",
    "print(x)"
   ]
  },
  {
   "cell_type": "markdown",
   "metadata": {},
   "source": [
    "In Python, lists are also iterables, which means you can loop through them with a for loop in a convenient way. (If you come from other languages like C++ or Java you are most likely used to using a counter to loop through indices of a list - in Python you can actually loop through the elements.) Check the code:"
   ]
  },
  {
   "cell_type": "code",
   "execution_count": null,
   "metadata": {
    "collapsed": true
   },
   "outputs": [],
   "source": [
    "my_list = [1, 3, \"Mr Blobby\", [5, 6, 7]]\n",
    "for element in my_list:\n",
    "  print(element)"
   ]
  },
  {
   "cell_type": "markdown",
   "metadata": {},
   "source": [
    "There are many other properties of lists, but for the basic exercise all you should need is this for loop property.\n",
    "\n",
    "For more information about lists in Python, check out these resources:\n",
    "* [The official Python documentation on lists](https://docs.python.org/3.3/tutorial/datastructures.html)\n",
    "* [w3schools Tutorial](https://www.w3schools.com/python/python_lists.asp)\n",
    "* [Tutorialspoint on Python lists](https://www.tutorialspoint.com/python/python_lists.htm)\n",
    "* [Someone else’s blog post about lists](http://effbot.org/zone/python-list.htm)\n",
    "\n",
    "### More Conditionals\n",
    "The nice thing about conditionals is that they follow logical operations. They can also be used to test equality. Let’s do a small example. Let’s say I want to make a piece of code that converts from a numerical grade (1-100) to a letter grade (A, B, C, D, F). The code would look like this:"
   ]
  },
  {
   "cell_type": "code",
   "execution_count": null,
   "metadata": {
    "collapsed": true
   },
   "outputs": [],
   "source": [
    "grade = int(input(\"Enter your grade: \"))\n",
    "if grade >= 90:\n",
    "  print(\"A\")\n",
    "elif grade >= 80:\n",
    "  print(\"B\")\n",
    "elif grade >= 70:\n",
    "  print(\"C\")\n",
    "elif grade >= 65:\n",
    "  print(\"D\")\n",
    "else:\n",
    "  print(\"F\")"
   ]
  },
  {
   "cell_type": "markdown",
   "metadata": {},
   "source": [
    "What happens if grade is 50? All the conditions are false, so \"F\" gets printed on the screen. But what if grade is 95? Then all the conditions are true and everything gets printed, right? Nope! What happens is the program goes line by line. The first condition (grade >= 90) is satisfied, so the program enters into the code inside the if statement, executing print(\"A\"). Once code inside a conditional has been executed, the rest of the conditions are skipped and none of the other conditionals are checked."
   ]
  },
  {
   "cell_type": "markdown",
   "metadata": {},
   "source": [
    "### Back to the challenge\n",
    "\n",
    "> Take a list, say for example this one:\n",
    "\n",
    "> `a = [1, 1, 2, 3, 5, 8, 13, 21, 34, 55, 89]`\n",
    "\n",
    "> and write a program that prints out all the elements of the list that are less than 5.\n",
    "\n",
    "**Extras:**\n",
    "\n",
    "1. Instead of printing the elements one by one, make a new list that has all the elements less than 5 from this list in it and print out this new list.\n",
    "2. Write this in one line of Python (*hint*: you will need to use a list comprehension)\n",
    "3. Ask the user for a number and return a list that contains only elements from the original list a that are smaller than that number given by the user."
   ]
  },
  {
   "cell_type": "code",
   "execution_count": null,
   "metadata": {
    "collapsed": true
   },
   "outputs": [],
   "source": [
    "# Use the following cell/s for your solution\n"
   ]
  },
  {
   "cell_type": "code",
   "execution_count": null,
   "metadata": {
    "collapsed": true
   },
   "outputs": [],
   "source": [
    "\n"
   ]
  },
  {
   "cell_type": "code",
   "execution_count": null,
   "metadata": {
    "collapsed": true
   },
   "outputs": [],
   "source": [
    "\n"
   ]
  },
  {
   "cell_type": "code",
   "execution_count": null,
   "metadata": {
    "collapsed": true
   },
   "outputs": [],
   "source": [
    "\n"
   ]
  },
  {
   "cell_type": "code",
   "execution_count": null,
   "metadata": {
    "collapsed": true
   },
   "outputs": [],
   "source": [
    "# Type solution() to reveal the solution\n",
    "from list_less_than_ten import solution\n"
   ]
  }
 ],
 "metadata": {
  "kernelspec": {
   "display_name": "Python 3",
   "language": "python",
   "name": "python3"
  },
  "language_info": {
   "codemirror_mode": {
    "name": "ipython",
    "version": 3
   },
   "file_extension": ".py",
   "mimetype": "text/x-python",
   "name": "python",
   "nbconvert_exporter": "python",
   "pygments_lexer": "ipython3",
   "version": "3.6.9"
  }
 },
 "nbformat": 4,
 "nbformat_minor": 2
}
