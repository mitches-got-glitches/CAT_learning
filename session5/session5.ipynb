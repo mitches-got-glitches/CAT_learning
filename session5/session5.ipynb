{
 "cells": [
  {
   "cell_type": "markdown",
   "metadata": {},
   "source": [
    "# Challenge 1 - String Lists\n",
    "The first challenge is this:\n",
    "\n",
    "> Ask the user for a string and print out whether this string is a palindrome or not. (A **palindrome** is a string that reads the same forwards and backwards.)\n",
    "\n",
    "The concepts that will be covered in this challenge are:\n",
    "* List indexing\n",
    "* Strings are lists\n",
    "\n",
    "Let's introduce you to the concepts.\n",
    "\n",
    "### List indexing\n",
    "In Python (and most programming in general), you start counting lists from the number 0. The first element in a list is \"number0\", the second is \"number 1\", etc.\n",
    "\n",
    "As a result, when you get single elements out of a list, you can ask  a list for that number element: \n"
   ]
  },
  {
   "cell_type": "code",
   "execution_count": null,
   "metadata": {},
   "outputs": [],
   "source": [
    "a = [5, 10, 15, 20, 25]\n",
    "print(a[3])\n",
    "print(a[0])"
   ]
  },
  {
   "cell_type": "markdown",
   "metadata": {},
   "source": [
    "Note that list objects are indexed using square brackets. \n",
    "\n",
    "There is also a convenient wat to get sublists between two indices, called a \"slice\"."
   ]
  },
  {
   "cell_type": "code",
   "execution_count": null,
   "metadata": {},
   "outputs": [],
   "source": [
    "# The slice operator is a semicolon\n",
    "a = [5, 10, 15, 20, 25, 30, 35, 40]\n",
    "print(a[1:4])"
   ]
  },
  {
   "cell_type": "code",
   "execution_count": null,
   "metadata": {},
   "outputs": [],
   "source": [
    "# Leaving one side of the slice operator empty returns all elements on the empty side\n",
    "print(a[6:])\n",
    "print(a[:3])"
   ]
  },
  {
   "cell_type": "code",
   "execution_count": null,
   "metadata": {},
   "outputs": [],
   "source": [
    "# Negative indexing counts relative from the end of the list\n",
    "print(a[:-1])"
   ]
  },
  {
   "cell_type": "markdown",
   "metadata": {},
   "source": [
    "The first number is the “start index” and the last number is the “end index”. The end index is exclusive, meaning it won't be included in the result of the slice. You can also include a third number in the indexing, to count how often you should read from the list, often referred to as the “step”."
   ]
  },
  {
   "cell_type": "code",
   "execution_count": null,
   "metadata": {},
   "outputs": [],
   "source": [
    "a = [5, 10, 15, 20, 25, 30, 35, 40]\n",
    "a[1:5:2]"
   ]
  },
  {
   "cell_type": "code",
   "execution_count": null,
   "metadata": {},
   "outputs": [],
   "source": [
    "# A negative step can reverse the order of a list.\n",
    "a[3:0:-1]"
   ]
  },
  {
   "cell_type": "markdown",
   "metadata": {},
   "source": [
    "To read the whole list, you can simply use the variable name. You can also use `[:]` at the end of the variable name to return a copy of the list. Check the following example."
   ]
  },
  {
   "cell_type": "code",
   "execution_count": null,
   "metadata": {},
   "outputs": [],
   "source": [
    "x = [1, 3, 9]\n",
    "y = x\n",
    "y[0] = 10\n",
    "print(y)\n",
    "print(x)\n",
    "# Notice that our operation to y has also changed x\n",
    "# That's because assigning y to x creates a pointer to the memory address of x"
   ]
  },
  {
   "cell_type": "code",
   "execution_count": null,
   "metadata": {},
   "outputs": [],
   "source": [
    "x = [1, 3, 9]\n",
    "y = x[:]\n",
    "y[0] = 10\n",
    "print(y)\n",
    "print(x)\n",
    "# If we do the same thing but use a slice operator (:) to select a copy, x is not modified when we change y."
   ]
  },
  {
   "cell_type": "markdown",
   "metadata": {},
   "source": [
    "### Strings are lists\n",
    "Because strings are lists, you can do to strings most things that you can do to lists (some of the methods for each type of object are different). \n",
    "\n",
    "You can iterate through them:"
   ]
  },
  {
   "cell_type": "code",
   "execution_count": null,
   "metadata": {},
   "outputs": [],
   "source": [
    "string = 'coffee'\n",
    "for c in string:\n",
    "    print(\"one letter: \" + c)"
   ]
  },
  {
   "cell_type": "markdown",
   "metadata": {},
   "source": [
    "You can also take sublists or slices:"
   ]
  },
  {
   "cell_type": "code",
   "execution_count": null,
   "metadata": {},
   "outputs": [],
   "source": [
    "string = 'abcdefghijklmnopqrstuvwxyz'\n",
    "first_six = string[0:7]\n",
    "print(first_six)"
   ]
  },
  {
   "cell_type": "markdown",
   "metadata": {},
   "source": [
    "### Back to the challenge\n",
    "\n",
    "> Ask the user for a string and print out whether this string is a palindrome or not. (A **palindrome** is a string that reads the same forwards and backwards.)"
   ]
  },
  {
   "cell_type": "code",
   "execution_count": null,
   "metadata": {},
   "outputs": [],
   "source": [
    "# Use the following cell/s for your solution\n"
   ]
  },
  {
   "cell_type": "code",
   "execution_count": null,
   "metadata": {},
   "outputs": [],
   "source": []
  },
  {
   "cell_type": "code",
   "execution_count": null,
   "metadata": {},
   "outputs": [],
   "source": []
  },
  {
   "cell_type": "code",
   "execution_count": null,
   "metadata": {},
   "outputs": [],
   "source": [
    "# Type palindromes.solution() to reveal the solution\n",
    "import palindromes\n"
   ]
  },
  {
   "cell_type": "markdown",
   "metadata": {},
   "source": [
    "# Challenge 2 - List Comprehensions\n",
    "The second challenge this week is:\n",
    "\n",
    "> Let’s say I give you a list saved in a variable: `numbers = [1, 4, 9, 16, 25, 36, 49, 64, 81, 100]`. Write one line of Python that takes this list `numbers` and makes a new list that has only the even elements of this list in it.\n",
    "\n",
    "The concepts introduced this week are:\n",
    "\n",
    "* List comprehensions\n",
    "\n",
    "### List Comprehensions\n",
    "The eagle-eyed among you will have noticed the use of list comprehensions in a few of my solutions to the challenges so far. It's time to introduce them properly. The idea of a *list comprehension* is to make code more compact to accomplish tasks involving lists. Take for example this code:\n"
   ]
  },
  {
   "cell_type": "code",
   "execution_count": null,
   "metadata": {
    "scrolled": true
   },
   "outputs": [],
   "source": [
    "years_of_birth = [1990, 1991, 1990, 1990, 1992, 1991]\n",
    "ages = []\n",
    "for year in years_of_birth: \n",
    "    ages.append(2019 - year)\n",
    "print(ages)"
   ]
  },
  {
   "cell_type": "markdown",
   "metadata": {},
   "source": [
    "What this code did was translate the years of birth into ages, and it took us a for loop and an append statement to a new list to achieve it.\n",
    "\n",
    "Compare it to this piece of code that uses a list comprehension:"
   ]
  },
  {
   "cell_type": "code",
   "execution_count": null,
   "metadata": {},
   "outputs": [],
   "source": [
    "years_of_birth = [1990, 1991, 1990, 1990, 1992, 1991]\n",
    "ages = [2019 - year for year in years_of_birth]"
   ]
  },
  {
   "cell_type": "markdown",
   "metadata": {},
   "source": [
    "The second line here is the list comprehension.\n",
    "\n",
    "The idea of the list comprehension is to condense the for loop and the list appending into one simple line. Notice that the for loop just shifted to the end of the list comprehension, and the part before the for keyword is the thing to append to the end of the new list.\n",
    "\n",
    "You can also embed if statements into the list comprehension - check out the Python documentation on [List Comprehensions](https://docs.python.org/3/tutorial/datastructures.html#list-comprehensions) to help you out. \n",
    "\n",
    "Here are just a couple of examples:"
   ]
  },
  {
   "cell_type": "code",
   "execution_count": null,
   "metadata": {},
   "outputs": [],
   "source": [
    "birds = ['goose', 'goose', 'duck', 'sparrow', 'blackbird', 'goose', 'kestrel']\n",
    "geese = [bird for bird in birds if bird == 'goose']\n",
    "print(geese)\n",
    "# Notice the if statement comes after the for loop"
   ]
  },
  {
   "cell_type": "code",
   "execution_count": null,
   "metadata": {},
   "outputs": [],
   "source": [
    "# Indentation helps break it down\n",
    "geese = [bird\n",
    "        for bird in birds\n",
    "        if bird == 'goose']"
   ]
  },
  {
   "cell_type": "code",
   "execution_count": null,
   "metadata": {
    "scrolled": true
   },
   "outputs": [],
   "source": [
    "is_goose = [True if bird == 'goose' else False for bird in birds]\n",
    "print(is_goose)\n",
    "# This is the format for if and else statements in a list comprehension\n",
    "# Both before the for loop"
   ]
  },
  {
   "cell_type": "code",
   "execution_count": null,
   "metadata": {},
   "outputs": [],
   "source": [
    "# Again indentation can help break it down\n",
    "is_goose = [True\n",
    "            if bird == 'goose'\n",
    "            else\n",
    "            False\n",
    "            for bird in birds]"
   ]
  },
  {
   "cell_type": "markdown",
   "metadata": {},
   "source": [
    "### Back to the challenge\n",
    "\n",
    "> Let’s say I give you a list saved in a variable: `numbers = [1, 4, 9, 16, 25, 36, 49, 64, 81, 100]`. Write one line of Python that takes this list `numbers` and makes a new list that has only the even elements of this list in it.\n",
    "\n",
    "**Extras:**\n",
    "\n",
    "1. What pattern do you notice in the list above \"`numbers`\". Can you create it from scratch using a list comprehension and a `range()` function? "
   ]
  },
  {
   "cell_type": "code",
   "execution_count": null,
   "metadata": {},
   "outputs": [],
   "source": [
    "# Use the following cell/s for your solution\n"
   ]
  },
  {
   "cell_type": "code",
   "execution_count": null,
   "metadata": {},
   "outputs": [],
   "source": []
  },
  {
   "cell_type": "code",
   "execution_count": null,
   "metadata": {},
   "outputs": [],
   "source": []
  },
  {
   "cell_type": "code",
   "execution_count": null,
   "metadata": {},
   "outputs": [],
   "source": [
    "# Type solution() to reveal the solution\n",
    "from list_comprehensions import solution\n"
   ]
  },
  {
   "cell_type": "markdown",
   "metadata": {},
   "source": [
    "# Challenge 3 - Rock, Paper, Scissors\n"
   ]
  },
  {
   "cell_type": "markdown",
   "metadata": {},
   "source": [
    "A bonus challenge for this week: challenge three.\n",
    "\n",
    "> Make a two-player Rock-Paper-Scissors game. (Hint: Ask for player plays (using input), compare them, print out a message of congratulations to the winner, and ask if the players want to start a new game)\n",
    "\n",
    "The concepts for this challenge are:\n",
    "* While loops\n",
    "* Infinite loops\n",
    "* Break statements\n",
    "\n",
    "Let's introduce you to the concepts...\n",
    "\n",
    "### While loops\n",
    "While `for` loops continue until everything in a list or iterable has been iterated over, `while` loops keep looping while a particular condition is `True`.\n",
    "\n",
    "Let's look at a simple example to demonstrate:"
   ]
  },
  {
   "cell_type": "code",
   "execution_count": null,
   "metadata": {},
   "outputs": [],
   "source": [
    "# Start with 5 bananas in the bag\n",
    "bag = ['banana'] * 5\n",
    "\n",
    "# While there are still bananas in the bag, remove a banana\n",
    "while 'banana' in bag:\n",
    "    print(bag)\n",
    "    bag.remove('banana')\n",
    "    \n",
    "print(bag)"
   ]
  },
  {
   "cell_type": "code",
   "execution_count": null,
   "metadata": {},
   "outputs": [],
   "source": [
    "a = 5\n",
    "while a > 0:\n",
    "    print(a)\n",
    "    a -= 1\n",
    "    "
   ]
  },
  {
   "cell_type": "markdown",
   "metadata": {},
   "source": [
    "A particularly useful use case for `while` loops is checking user input for correctness. For example:"
   ]
  },
  {
   "cell_type": "code",
   "execution_count": null,
   "metadata": {},
   "outputs": [],
   "source": [
    "quit = input('Type \"enter\" to quit:' )\n",
    "while quit != 'enter':\n",
    "    quit = input('Type \"enter\" to quit:' )"
   ]
  },
  {
   "cell_type": "markdown",
   "metadata": {},
   "source": [
    "The uses for this are infinite, and can (and should!) be combined with conditionals to yield the most efficient results."
   ]
  },
  {
   "cell_type": "markdown",
   "metadata": {},
   "source": [
    "### Infinite loops\n",
    "An infinite loop is a loop that never stops. This means that the condition at the beginning of the while lopp will always be true.\n",
    "\n",
    "For example:\n"
   ]
  },
  {
   "cell_type": "code",
   "execution_count": null,
   "metadata": {},
   "outputs": [],
   "source": [
    "i = 5\n",
    "while i > 0:\n",
    "    print(\"Inside the loop\")"
   ]
  },
  {
   "cell_type": "markdown",
   "metadata": {},
   "source": [
    "What happens is the loop prints out the phrase “Inside the loop” forever and ever. If you are running your computer, you will have to “kill the program” to stop it. Each operating system has a different way of “killing a program” to get out of an infinite loop.\n",
    "\n",
    "When using Python on Windows “CTRL-C” will kill the program currently running in the terminal. A traceback with the exception `KeyboardInterrupt` should print to the terminal, and the prompt should reappear for you to continue programming.\n",
    "\n",
    "In Jupyter Notebooks, you will have to go to the Kernel menu and select “Interrupt”. Do that now if you executed the above code and haven't killed the loop already.\n",
    "\n",
    "If you find yourself in an infinite loop, your program will never end.\n",
    "\n",
    "### Break statements\n",
    "A break statement stops the execution of a loop before the original condition is met. It is typically not great coding practice to use break statements to stop infinite loops (you should use conditionals instead) but here I will demonstrate:"
   ]
  },
  {
   "cell_type": "code",
   "execution_count": null,
   "metadata": {},
   "outputs": [],
   "source": [
    "while True: \n",
    "    usr_command = input(\"Enter your command: \")\n",
    "    if usr_command == \"quit\":\n",
    "        break\n",
    "    else: \n",
    "        print(\"You typed \" + usr_command)"
   ]
  },
  {
   "cell_type": "markdown",
   "metadata": {},
   "source": [
    "### Back to the challenge\n",
    "\n",
    "> Make a two-player Rock-Paper-Scissors game. (Hint: Ask for player plays (using input), compare them, print out a message of congratulations to the winner, and ask if the players want to start a new game)\n"
   ]
  },
  {
   "cell_type": "code",
   "execution_count": null,
   "metadata": {},
   "outputs": [],
   "source": [
    "# Use the following cell/s for your solution\n"
   ]
  },
  {
   "cell_type": "code",
   "execution_count": null,
   "metadata": {},
   "outputs": [],
   "source": []
  },
  {
   "cell_type": "code",
   "execution_count": null,
   "metadata": {},
   "outputs": [],
   "source": []
  },
  {
   "cell_type": "code",
   "execution_count": null,
   "metadata": {},
   "outputs": [],
   "source": [
    "# Type rock_paper_scissors.solution() to reveal the solution\n",
    "import rock_paper_scissors\n"
   ]
  },
  {
   "cell_type": "markdown",
   "metadata": {},
   "source": [
    "# Further Reading\n",
    "You may have noticed the use of functions and nested functions in the solution which have not been fully introduced yet. Functions will be introduced properly in good time, but for now you can take a look at the [w3schools Python tutorial on functions](https://www.w3schools.com/python/python_functions.asp).\n",
    "\n",
    "Additionally, you may have noticed the funny looking code at the end of the solution.\n",
    "```\n",
    "if __name__ == \"__main__\":\n",
    "    main()\n",
    "```\n",
    "To explain this very briefly, what this code does is it tells the Python Interpreter to only execute the `main()` function if the module (in this case `rock_paper_scissors.py`) is being run directly.\n",
    "\n",
    "This allows you to import the module without running all the code (because when you import a module for the first time, all the code in that module is run). It is good practice to set your scripts out in this way as it will allow you to control the flow of execution of various modules later on once you start building them up.\n",
    "\n",
    "For an example, look at the cell above where we `import rock_paper_scissors`. Because of the nature of the `import` keyword, all the code will be run in the `rock_paper_scissors.py` module. If the `main()` function was out on it's own, the first time that this import statement is run, the game defined by main will begin. This is behaviour that we didn't want. We wanted to import the functions and variables of the module `rock_paper_scissors.py` and use them at will later on by evoking the namespace, i.e. `rock_paper_scissors.main()`.\n",
    "\n",
    "Feel free to ask further questions on this topic. To dig a bit deeper, check out this [StackOverflow question](https://stackoverflow.com/questions/419163/what-does-if-name-main-do)."
   ]
  }
 ],
 "metadata": {
  "kernelspec": {
   "display_name": "Python 3",
   "language": "python",
   "name": "python3"
  },
  "language_info": {
   "codemirror_mode": {
    "name": "ipython",
    "version": 3
   },
   "file_extension": ".py",
   "mimetype": "text/x-python",
   "name": "python",
   "nbconvert_exporter": "python",
   "pygments_lexer": "ipython3",
   "version": "3.6.9"
  }
 },
 "nbformat": 4,
 "nbformat_minor": 2
}
