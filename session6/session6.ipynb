{
 "cells": [
  {
   "cell_type": "markdown",
   "metadata": {},
   "source": [
    "# Challenge 1 - Guessing Game\n",
    "\n",
    "The first challenge is this:\n",
    "\n",
    "> Generate a random number between 1 and 9 (including 1 and 9). Ask the user to guess the number, then tell them whether they guessed too low, too high, or exactly right. Let them guess again until they get the correct answer. \n",
    "\n",
    "Extras:\n",
    "* Keep the game going (repeating) until the user types \"exit\" \n",
    "* Introduce some error handling for the user input to check that the input is as expected\n",
    "* Keep track of how many guesses the user has taken, and when the game ends, print this out.\n",
    "\n",
    "The concepts covered in this challenge are the following:\n",
    "\n",
    "* While loops (extension)\n",
    "* Importing modules\n",
    "* Try... Except error handling\n",
    "\n",
    "### While Loops (extension)\n",
    "While loops were introduced in Challenge 3 of Session 5. It is strongly recommended that you go back and revisit this introduction, which is available [here](https://share.sp.ons.statistics.gov.uk/sites/Prices/Bspt/PrTrgOpp/Forms/AllItems.aspx?RootFolder=%2Fsites%2FPrices%2FBspt%2FPrTrgOpp%2FCAT_Team%2FLearning%20Materials%2FSession%205). The concept of while loops were introduced, along with infinite loops and the break statement. \n",
    "\n",
    "Now I want to show you the `continue` keyword and how it can be used in both `for` loops and `while` loops. Say you want to print every number up to 50 except multiples of 3, you could achieve that with the following.\n",
    "\n"
   ]
  },
  {
   "cell_type": "code",
   "execution_count": null,
   "metadata": {
    "code_folding": []
   },
   "outputs": [],
   "source": [
    "# Obviously this is not the most efficient way of doing this but just for demonstration\n",
    "i = 0\n",
    "while i <= 20:\n",
    "    i += 1\n",
    "    if i % 3 == 0:\n",
    "        continue\n",
    "    print(i)\n"
   ]
  },
  {
   "cell_type": "code",
   "execution_count": null,
   "metadata": {},
   "outputs": [],
   "source": [
    "# The efficient way\n",
    "[print(i) for i in range(1,21) if i % 3 != 0]\n",
    "\n",
    "None # Just to suppress Notebooks printing a list of Nones\n"
   ]
  },
  {
   "cell_type": "markdown",
   "metadata": {},
   "source": [
    "Now to demonstrate this with a for loop, let's say I have a list of people in my class at school, and I want to invite them to a party I'm having at Wacky Warehouse. However, Cindy stole one of my scented rollerball pens and Jack won my beloved Oink crazy bone in a crazy bone battle, so I don't feel like inviting them. I can do this using a for loop!"
   ]
  },
  {
   "cell_type": "code",
   "execution_count": null,
   "metadata": {},
   "outputs": [],
   "source": [
    "classmates = ['fred', 'ella', 'james', 'jack', 'prim', 'lauren', 'cindy', 'reggie']\n",
    "invitation_list = []\n",
    "for child in classmates:\n",
    "    if child in ['jack', 'cindy']:\n",
    "        continue\n",
    "    invitation_list.append(child)\n",
    "\n",
    "print(invitation_list)\n",
    "# Take that Jack and Cindy!!"
   ]
  },
  {
   "cell_type": "markdown",
   "metadata": {},
   "source": [
    "Again, using a loop to achieve this outcome is not the most efficient way to solve this very real problem but it a useful demonstrator of what the `continue` keyword can do. Party bags anyone?\n",
    "\n",
    "### Importing modules\n",
    "This challenge involves generating a random number so we need to think how we go about that. We could write a program or function that achieves this, but if someone has already written one then it would make perfect sense to just get a hold of that code and run that instead. This is one of the joys (stretch) of programming and Python in particular: there are so many extensible libraries with bundles of functionality ready for you to import and start using to your heart's content. When you're writing code as a beginner and you think to yourself \"somebody must have had this challenge before\", then they probably have. And then they probably wrote a piece of code so you don't have to. It's always worth doing a quick search around online or in the documentation whenever this occurs, as knowing what tools are out there is half the battle. Using the right tool for the job can greatly increase your capacity to achieve things as a programmer.\n",
    "\n",
    "To use other people's code in Python you need to use the `import` keyword to import either a module or a package. A module is simply a .py Python file that contains some Python objects (functions, classes, variables), and any .py Python file is a module and can be imported. A package is simply a term used to describe a collection of modules.\n",
    "\n",
    "Python ships with a number of modules available to you 'out-of-the-box'. This means that you can just type `import modulename` (leave out the .py) and you can start using that module's functionality right away. A list of these modules can be found at the [Python Module Index](https://docs.python.org/3/py-modindex.html).  If you want to use a module or package created and shared outside of the Python Standard Library, on an online repository such as [PyPI](https://pypi.org/) for example, then you will have to install the module before you can import it. I won't get onto that here, but if you are using a distribution of Python such as Anaconda then it automatically ships with most of the math and science packages needed for data and scientific analysis.\n",
    "\n",
    "You've probably done an `import` before, but I'll show you how you can find the function you want and work out how to use it. For the challenge we will need the `random` module from the Python Standard Library."
   ]
  },
  {
   "cell_type": "code",
   "execution_count": null,
   "metadata": {},
   "outputs": [],
   "source": [
    "# Let's import it\n",
    "import random\n",
    "help(random)"
   ]
  },
  {
   "cell_type": "markdown",
   "metadata": {},
   "source": [
    "Typing help on a module is a quick way to access the documentation and get an overview of what the module is for.\n",
    "\n",
    "To get a quick view of what is accessible in the namespace in the module you can use `dir`."
   ]
  },
  {
   "cell_type": "code",
   "execution_count": null,
   "metadata": {},
   "outputs": [],
   "source": [
    "dir(random)"
   ]
  },
  {
   "cell_type": "markdown",
   "metadata": {},
   "source": [
    "You can ignore most of the attributes here that are preceded by underscores, as these are generally for internal use of the module itself. What you're interested in is the list of lowercase functions in alphabetical order. These are the functions available in the `random` namespace. Let's use the `help` function to find out what one of them means:"
   ]
  },
  {
   "cell_type": "code",
   "execution_count": null,
   "metadata": {
    "scrolled": true
   },
   "outputs": [],
   "source": [
    "# Note the lack of parenthesis after sample\n",
    "help(random.sample)"
   ]
  },
  {
   "cell_type": "markdown",
   "metadata": {},
   "source": [
    "The `help` function tells us what the function is for and what arguments it takes. The function to generate a random integer between 1 and 9 is in there somewhere, can you find it?\n",
    "\n",
    "### Try... Except\n",
    "There are three blocks you need to know for Try...Excpt error handling in Python.\n",
    "\n",
    "* The `try` block lets you test a block of code for errors.\n",
    "* The `except` block lets you handle the error.\n",
    "* The `finally` block lets you execute code, regardless of the result of the try- and except blocks.\n",
    "\n",
    "When an error occurs (exception) Python will normally stop and generate an error message. Instead of automatically stopping the program, the `try` statement let's you test a code for an error, and the `except` statement lets you tell the computer what to do if an error occurs. The process is sometimes called error catching, but in Python, \"exception handling\".\n",
    "\n",
    "Typically in the `try` block, you want to execute a piece of code that does one thing and one thing only, so that you can isolate what's causing errors and program in the appropriate response. You can follow the `except` keyword with an exception type, so that you can program different behaviours depending on what type of exception it is.\n",
    "\n",
    "Common error types are:\n",
    "* **NameError** - You are trying to use a name that has not yet been defined.\n",
    "* **TypeError** - You are trying to perform an operation on a object with an inappropriate type.\n",
    "* **ValueError** - Raised when an operation or function recevies an argument that is the right type but has an inappropriate value.\n",
    "\n",
    "For a full list of built-in exceptions you can check the [Python docs](https://docs.python.org/3/library/exceptions.html).\n",
    "\n",
    "For a further tutorial on Try...Except, check out the [Python w3schools tutorial](https://www.w3schools.com/python/python_try_except.asp)."
   ]
  },
  {
   "cell_type": "code",
   "execution_count": 39,
   "metadata": {},
   "outputs": [
    {
     "name": "stdout",
     "output_type": "stream",
     "text": [
      "You can't check whether a list is in a string. You can check whether a list is in a string though.\n"
     ]
    }
   ],
   "source": [
    "ship = 'nebuchadnezzar'\n",
    "occupants = ['trinity', 'neo', 'morpheus', 'tank', 'mouse', 'cypher', 'dozer', 'apoc', 'switch']\n",
    "\n",
    "try:\n",
    "    occupants in ship\n",
    "except TypeError: \n",
    "    print(\"You can't check whether a list is in a string. You can check whether a list is in a string though.\")\n",
    "    "
   ]
  },
  {
   "cell_type": "markdown",
   "metadata": {},
   "source": [
    "### Back to the challenge\n",
    "\n",
    "> Generate a random number between 1 and 9 (including 1 and 9). Ask the user to guess the number, then tell them whether they guessed too low, too high, or exactly right. Let them guess again until they get the correct answer. \n",
    "\n",
    "Extras:\n",
    "* Keep the game going (repeating) until the user types \"exit\" \n",
    "* Introduce some error handling for the user input to check that the input is as expected\n",
    "* Keep track of how many guesses the user has taken, and when the game ends, print this out."
   ]
  },
  {
   "cell_type": "code",
   "execution_count": null,
   "metadata": {},
   "outputs": [],
   "source": [
    "# Use the following cell/s to create your solution\n",
    "\n"
   ]
  },
  {
   "cell_type": "code",
   "execution_count": null,
   "metadata": {},
   "outputs": [],
   "source": []
  },
  {
   "cell_type": "code",
   "execution_count": null,
   "metadata": {},
   "outputs": [],
   "source": []
  },
  {
   "cell_type": "code",
   "execution_count": null,
   "metadata": {},
   "outputs": [],
   "source": [
    "# To reveal the solution, call guessing_game.solution()\n",
    "import guessing_game\n"
   ]
  },
  {
   "cell_type": "markdown",
   "metadata": {},
   "source": [
    "# Challenge 2 - Check Primality Functions\n",
    "\n",
    "The second challenge for this week is this:\n",
    "\n",
    "> Ask the user for a number and determine whether the number is prime or not. (For those who have forgotten, a prime number is a number that has no divisors.). Your answer to the Divisors challenge in session 4 will help you.  Take this opportunity to practice using functions, described below.\n",
    "\n",
    "Concepts covered in this challenge:\n",
    "* Functions\n",
    "* Reusable functions\n",
    "* Default arguments\n",
    "* Controlling flow with main()\n",
    "\n",
    "### Functions\n",
    "Python is a \"functional\" programming language meaning that one its key features is that you can group procedures into functions that you can use over and over again as you need them, and possibly with different arguments! It is good practice to create a function with a single purpose (particularly for unit testing), and the function's name should hint at it's purpose. You should also always create a docstring with your function, in the least describing what the function does with some mention to its inputs and outputs.\n",
    "\n",
    "In other programming languages you might hear a function called a subroutine or a subprogram. They all essentially mean the same thing so try not to get confused.\n",
    "\n",
    "The following is generally a good rule of thumb:\n",
    "> Write a function if you have copy and pasted twice.\n",
    "\n",
    "How you should write a function:\n",
    "1. Start with a simple problem\n",
    "2. Get a working snippet of code\n",
    "3. Rewrite the snippet using temporary variables\n",
    "4. Rewrite for clarity (extract calculations)\n",
    "5. Turn it into a function\n",
    "6. Test\n",
    "\n",
    "To create a function in Python you use the `def` keyword followed by the function name (keep it lowercase with words separated using an underscore), a set of parenthesis containing any arguments, and a colon. Create the docstring directly below the function definition (the code should be indented) using triple quotation marks: `\"\"\"This is a docstring.\"\"\"` Functions don't always have to return something, but most do. To return an object then put it after the `return` keyword.\n",
    "\n",
    "Here's a very simple function:"
   ]
  },
  {
   "cell_type": "code",
   "execution_count": null,
   "metadata": {},
   "outputs": [],
   "source": [
    "def multiply_by_2(x):\n",
    "    \"\"\"Takes an argument x and returns the value multiplied by 2.\"\"\"\n",
    "    return x * 2\n",
    "\n",
    "# Now we can use it\n",
    "print(multiply_by_2(6))\n",
    "print(multiply_by_2(16))\n",
    "print(multiply_by_2(-2))"
   ]
  },
  {
   "cell_type": "markdown",
   "metadata": {},
   "source": [
    "In the above example we passed an argument called `x`, and we used that `x` to calculate our return statement. We don't need to pass an argument, we can just wrap our code in a function. A function like that would do one thing and one thing only. Adding arguments however let's you change the behaviour in any manner of ways. "
   ]
  },
  {
   "cell_type": "code",
   "execution_count": null,
   "metadata": {},
   "outputs": [],
   "source": [
    "def one_more_song():\n",
    "    print(\"One more song!\")\n",
    "    \n",
    "one_more_song()\n",
    "one_more_song()\n",
    "one_more_song()  "
   ]
  },
  {
   "cell_type": "code",
   "execution_count": null,
   "metadata": {
    "scrolled": true
   },
   "outputs": [],
   "source": [
    "def shout_more_songs(x):\n",
    "    print(\"{0} more songs.\".format(x))\n",
    "    \n",
    "shout_more_songs(5)\n",
    "shout_more_songs(3)"
   ]
  },
  {
   "cell_type": "markdown",
   "metadata": {},
   "source": [
    "There are two types of argument you can pass to a function:\n",
    "* Positional arguments\n",
    "* Default arguments\n",
    "\n",
    "Positional arguments are always listed before default arguments in a function definition.  Positional arguments are what the function always expects, so if you miss these arguments in your function call Python will throw an error. You do not need to specify the keyword for a positional argument, as long as the value passed is in the right 'position'. However, it sometimes helps to be explicit.\n",
    "\n"
   ]
  },
  {
   "cell_type": "code",
   "execution_count": null,
   "metadata": {
    "scrolled": true
   },
   "outputs": [],
   "source": [
    "# Demonstration of missing positional argument\n",
    "def multiply_together(x, y):\n",
    "    return x * y\n",
    "\n",
    "print(multiply_together(2, 4))\n",
    "print(multiply_together(x=10, y=70))"
   ]
  },
  {
   "cell_type": "code",
   "execution_count": null,
   "metadata": {
    "scrolled": true
   },
   "outputs": [],
   "source": [
    "multiply_together(2)"
   ]
  },
  {
   "cell_type": "markdown",
   "metadata": {},
   "source": [
    "The default value of a default argument is assigned in the function definition by using the `=` operator (typically without spaces). However, this default value can be overridden in a function call by passing a different value. Again, you do not need to specify the keyword for a default argument, if it would still work as a positional argument. However, if you decided to skip a default argument before the one you are specifying, you will need to use the keyword.\n",
    "\n",
    "You can set an argument as optional, by setting its default value to `None`."
   ]
  },
  {
   "cell_type": "code",
   "execution_count": null,
   "metadata": {},
   "outputs": [],
   "source": [
    "def menu_choice(main, dessert, starter=None, side='chips'):\n",
    "    print(\"For main, {}. \".format(main))\n",
    "    print(\"For dessert, {}. \".format(dessert))\n",
    "    if starter:\n",
    "        print(\"For starter, {}. \".format(starter))\n",
    "    if side:\n",
    "        print(\"For side, {}. \\n\".format(side))\n",
    "        \n",
    "menu_choice('Lasagne', 'Tiramisu')\n",
    "menu_choice(main='Caesar Salad', dessert='Apple Tart', side='Garlic Mushrooms')\n",
    "menu_choice('Beans on Toast', 'Tub of Ben & Jerry\\'s', 'Chicken Goujons', 'crisps')"
   ]
  },
  {
   "cell_type": "markdown",
   "metadata": {},
   "source": [
    "### Controlling flow with `main()`\n",
    "A nice benefit of having everything in functions is that you can control the execution of your code. When a function is defined the code is not run, it's only run when it's called.\n",
    "\n",
    "Typical practice in functional programming, is to have one function called `main()` which calls all the necessary functions for the module to perform it's task. You will see examples of this when you look at the solutions to this weeks challenges.\n",
    "\n",
    "Another thing that you will see in the solutions is the following code:\n"
   ]
  },
  {
   "cell_type": "code",
   "execution_count": null,
   "metadata": {},
   "outputs": [],
   "source": [
    "# Don't run, just for demonstration\n",
    "if __name__ == \"__main__\":\n",
    "    main()"
   ]
  },
  {
   "cell_type": "markdown",
   "metadata": {},
   "source": [
    "This piece of code is necessary to control the execution of a module when importing the module from another. When you use `import` to import a module, the code in that module is executed (only once per Python session). If you are not controlling your flow of execution with the code above, then all the code that is not within functions will be executed. There might be a load of print statements that we don't want to see. It may initiate a game and ask for user input. We don't want this - we just want access tto the functions, classes and variables within the module.\n",
    "\n",
    "Essentially, what the boilerplate code above tells Python to do, is to only execute `main()` if the module is being run directly. In this instance, Python sets the internal attribute `__name__` to `\"__main__\"`, hence why we have the conditional above checking for equality.\n",
    "\n",
    "Therefore, if you are importing this module into another, it will load the functions into the namespace of your import, but it won't actually execute any of the code (until you tell it to!)."
   ]
  },
  {
   "cell_type": "markdown",
   "metadata": {},
   "source": [
    "### Back to the challenge\n",
    "\n",
    "> Ask the user for a number and determine whether the number is prime or not. (For those who have forgotten, a prime number is a number that has no divisors.). Your answer to the Divisors challenge in Session 4 will help you. Take this opportunity to practice using functions, described below.\n"
   ]
  },
  {
   "cell_type": "code",
   "execution_count": null,
   "metadata": {},
   "outputs": [],
   "source": [
    "# Use the cell/s below to write your solution\n",
    "\n"
   ]
  },
  {
   "cell_type": "code",
   "execution_count": null,
   "metadata": {},
   "outputs": [],
   "source": [
    "\n"
   ]
  },
  {
   "cell_type": "code",
   "execution_count": null,
   "metadata": {},
   "outputs": [],
   "source": []
  },
  {
   "cell_type": "code",
   "execution_count": null,
   "metadata": {},
   "outputs": [],
   "source": [
    "# Run check_primality_functions.solution() to get the solution.\n",
    "import check_primality_functions\n"
   ]
  }
 ],
 "metadata": {
  "kernelspec": {
   "display_name": "Python 3",
   "language": "python",
   "name": "python3"
  },
  "language_info": {
   "codemirror_mode": {
    "name": "ipython",
    "version": 3
   },
   "file_extension": ".py",
   "mimetype": "text/x-python",
   "name": "python",
   "nbconvert_exporter": "python",
   "pygments_lexer": "ipython3",
   "version": "3.6.9"
  }
 },
 "nbformat": 4,
 "nbformat_minor": 2
}
