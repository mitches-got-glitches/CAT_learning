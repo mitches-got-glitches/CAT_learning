{
 "cells": [
  {
   "cell_type": "markdown",
   "metadata": {},
   "source": [
    "# Challenge 1 - Divisors\n",
    "\n",
    "The first challenge is this:\n",
    "\n",
    "> Create a program that asks the user for a number and then prints out a list of all the divisors of that number.\n",
    "\n",
    "Note that a divisor is a number that divides evenly into another number i.e. there is no remainder after a division.\n",
    "\n",
    "The concepts that will be covered in this challenge are:\n",
    "\n",
    "* Lists and list methods\n",
    "* The built-in range() function\n",
    "* For loops / iterators\n",
    "\n",
    "Let's introduce you to the concepts.\n",
    "\n",
    "### Lists\n",
    "Lists were introduced in [session 3](https://share.sp.ons.statistics.gov.uk/sites/Prices/Bspt/PrTrgOpp/CAT_Team/Learning%20Materials), so if you are not comfortable with lists I suggest that you start there. However, we will recap the concepts necessary and introduce a couple more in the following challenge.\n",
    "\n",
    "You construct a list in Python using square brackets. The way to construct an empty list is just to do:"
   ]
  },
  {
   "cell_type": "code",
   "execution_count": null,
   "metadata": {},
   "outputs": [],
   "source": [
    "x = []\n",
    "print(x)"
   ]
  },
  {
   "cell_type": "markdown",
   "metadata": {},
   "source": [
    "Your variable x now holds an empty list. To add things to this list, just \"append\" them to the list. Like so:"
   ]
  },
  {
   "cell_type": "code",
   "execution_count": null,
   "metadata": {},
   "outputs": [],
   "source": [
    "x = []\n",
    "x.append(3)\n",
    "x.append(5)\n",
    "x.append(7)\n",
    "print(x)"
   ]
  },
  {
   "cell_type": "markdown",
   "metadata": {},
   "source": [
    "### The range() function\n",
    "The `range()` is one of Python's [built-in functions](https://docs.python.org/3/library/functions.html). `range()` provides an easy way of programatically creating lists of numbers.\n",
    "\n",
    "Let's use the `help()` (another built-in function) to access the documentation and see how we are expected to use `range()`."
   ]
  },
  {
   "cell_type": "code",
   "execution_count": null,
   "metadata": {},
   "outputs": [],
   "source": [
    "help(range)"
   ]
  },
  {
   "cell_type": "markdown",
   "metadata": {},
   "source": [
    "After executing the `help()` function we are presented with the documentation. As well as a description of the function and a demonstration of the syntax, we're also presented with a list of attributes and methods associated with the range class in Python. `help()` is a mega useful function that gives you quick access to the documentation of any function and can provide those much needed clues on how you can configure the arguments to get the output that you want.\n",
    "\n",
    "For now, let's focus in on this section of the documentation:\n",
    ">  |  range(stop) -> range object\n",
    "\n",
    "> |  range(start, stop[, step]) -> range object\n",
    "  \n",
    "> Return an object that produces a sequence of integers from start (inclusive) to stop (exclusive) by step.  range(i, j) produces i, i+1, i+2, ..., j-1. start defaults to 0, and stop is omitted!  range(4) produces 0, 1, 2, 3. These are exactly the valid indices for a list of 4 elements. When step is given, it specifies the increment (or decrement).\n",
    "\n",
    "From the documentation we can see there a few ways of using `range()`. Let's dive into some demonstrations.\n"
   ]
  },
  {
   "cell_type": "code",
   "execution_count": null,
   "metadata": {},
   "outputs": [],
   "source": [
    "# When using range() with one parameter the function will interpret it as the 'stop' argument.\n",
    "# range() will then start at zero and create a list from zero up to stop with a step of 1.\n",
    "my_range = range(9)\n",
    "print(my_range)\n",
    "print(type(my_range))"
   ]
  },
  {
   "cell_type": "markdown",
   "metadata": {},
   "source": [
    "Note that when you print the range, what is printed is a range object and not a list. A range object is iterable, so you can iterate over it in a for loop. For large ranges, the range object is much more memory efficent to store when compared with a Python list. However, we can convert a range to a list by using the built-in `list()` function.  "
   ]
  },
  {
   "cell_type": "code",
   "execution_count": null,
   "metadata": {},
   "outputs": [],
   "source": [
    "my_range = range(9)\n",
    "list(my_range)"
   ]
  },
  {
   "cell_type": "markdown",
   "metadata": {},
   "source": [
    "Notice that the behaviour above is explained in the documentation:\n",
    "> \"start defaults to 0, and stop is omitted!\"\n",
    "\n",
    "Let's introduce another argument to the function to take another look, the `start` argument."
   ]
  },
  {
   "cell_type": "code",
   "execution_count": null,
   "metadata": {},
   "outputs": [],
   "source": [
    "my_range = range(start=5, stop=9)\n",
    "print(list(my_range))"
   ]
  },
  {
   "cell_type": "markdown",
   "metadata": {},
   "source": [
    "So although we put 9 as the `stop` argument the range() function doesn't include it in the output. It is \"exclusive\".\n",
    "> \"Return an object that produces a sequence of integers from start (inclusive) to stop (exclusive)\"\n",
    "\n",
    "Finally, let's take a look at the optional `step` argument. Note that we don't have to use the argument keywords if we line up the arguments in the correct positional order."
   ]
  },
  {
   "cell_type": "code",
   "execution_count": null,
   "metadata": {},
   "outputs": [],
   "source": [
    "# The step argument changes the default increment of 1, to the value specified.\n",
    "list(range(5, 55, 5))"
   ]
  },
  {
   "cell_type": "code",
   "execution_count": null,
   "metadata": {},
   "outputs": [],
   "source": [
    "# Another way of achieving the result above using a list comprehension\n",
    "[x*5 for x in range(1, 11)]"
   ]
  },
  {
   "cell_type": "code",
   "execution_count": null,
   "metadata": {},
   "outputs": [],
   "source": [
    "# Step can also be used to \"decrement\"\n",
    "list(range(10, 5, -1))"
   ]
  },
  {
   "cell_type": "markdown",
   "metadata": {},
   "source": [
    "### For loops\n",
    "Notice earlier that I said a range object was iterable. That means we can use it in for loops."
   ]
  },
  {
   "cell_type": "code",
   "execution_count": null,
   "metadata": {},
   "outputs": [],
   "source": [
    "for i in range(1, 6):\n",
    "    print(i)"
   ]
  },
  {
   "cell_type": "markdown",
   "metadata": {},
   "source": [
    "### Concepts from previous weeks (recap)\n",
    "\n",
    "**User Inputs**\n",
    "* You can accept user inputs with the `input()` function.\n",
    "* Pass a string as the argument to the `input()` function to print a prompt for the user.\n",
    "* Using a colon and a space makes things clearer for the user e.g. \"Type here: \"\n",
    "* You can assign the input to a variable to use as you like e.g. `my_var = input('Type a var: ')`\n",
    "* User input is always stored as a string. Convert to a number type if you want to do arithmetic.\n",
    "\n",
    "### Back to the challenge\n",
    "\n",
    "> Create a program that asks the user for a number and then prints out a list of all the divisors of that number.\n",
    "\n",
    "Note that a divisor is a number that divides evenly into another number i.e. there is no remainder after a division.\n"
   ]
  },
  {
   "cell_type": "code",
   "execution_count": null,
   "metadata": {
    "collapsed": true
   },
   "outputs": [],
   "source": [
    "# Use the following cell/s for your solution\n"
   ]
  },
  {
   "cell_type": "code",
   "execution_count": null,
   "metadata": {
    "collapsed": true
   },
   "outputs": [],
   "source": []
  },
  {
   "cell_type": "code",
   "execution_count": null,
   "metadata": {
    "collapsed": true
   },
   "outputs": [],
   "source": []
  },
  {
   "cell_type": "code",
   "execution_count": null,
   "metadata": {},
   "outputs": [],
   "source": [
    "# Type solution() below to reveal the solution\n",
    "from divisors import solution\n"
   ]
  },
  {
   "cell_type": "markdown",
   "metadata": {},
   "source": [
    "The solution has an extra step in it for error handling. The code is checking that the user correctly entered an integer, otherwise the program will encounter a `ValueError` when we try to convert to `int()`. We'll come back to this at a later time, but if you're interested you can check out the following:\n",
    "* [Python Try...Except tutorial on w3schools](https://www.w3schools.com/python/python_try_except.asp)\n",
    "\n"
   ]
  },
  {
   "cell_type": "markdown",
   "metadata": {},
   "source": [
    "# Challenge 2 - List Overlap\n",
    "\n",
    "This week's second challenge is this:\n",
    "\n",
    "> Take two lists, say for example these two:\n",
    "\n",
    "> a = [1, 1, 2, 3, 5, 8, 13, 21, 34, 55, 89]\n",
    "  \n",
    "> b = [1, 2, 3, 4, 5, 6, 7, 8, 9, 10, 11, 12, 13]\n",
    "  \n",
    ">and write a program that returns a list that contains only the elements that are common between the lists (without duplicates). Make sure your program works on two lists of different sizes.\n",
    "\n",
    "The concepts that will be covered in this challenge are:\n",
    "* List properties\n",
    "* Boolean logic\n",
    "* For loops\n",
    "* Random integer generation\n",
    "* Sets and set theory\n",
    "\n",
    "### List properties\n",
    "You can check if an item exists within a list by using the keyword `in`."
   ]
  },
  {
   "cell_type": "code",
   "execution_count": null,
   "metadata": {},
   "outputs": [],
   "source": [
    "prices_pubs = ['cpi', 'rpi', 'cpih', 'hpi', 'sppi', 'ppi']\n",
    "print('hpi' in prices_pubs)\n",
    "print('blue book' in prices_pubs)"
   ]
  },
  {
   "cell_type": "markdown",
   "metadata": {},
   "source": [
    "You can also use the keyword `not` to negate the boolean outcome of `in`, i.e. check for non-existence."
   ]
  },
  {
   "cell_type": "code",
   "execution_count": null,
   "metadata": {},
   "outputs": [],
   "source": [
    "prices_pubs = ['cpi', 'rpi', 'cpih', 'hpi', 'sppi', 'ppi']\n",
    "print('blue book' not in prices_pubs)"
   ]
  },
  {
   "cell_type": "markdown",
   "metadata": {},
   "source": [
    "You can use the outcome of these kinds of expression as conditionals to control the execution of the program."
   ]
  },
  {
   "cell_type": "markdown",
   "metadata": {},
   "source": [
    "### Boolean Logic\n",
    "For an introduction to boolean logic, check out the [w3schools tutorial on the topic ](w3schools tutorial on the topic).\n",
    "\n",
    "Here, we're going to focus on combining expressions to make more complex conditionals. To combine expressions you can use the following:\n",
    "\n",
    "* The symbol `&` or the keyword `and`, in which both expressions must evaluate to `True` for the conditional to be true also.\n",
    "* The symbol `|` or the keyword `or`, in which just one of the expressions needs to evaluate to `True` for the conditional to be `True`.\n",
    "\n",
    "You can also use a combination of parenthesis and the following:\n",
    "* The symbol `!` or the keyword `not`, to negate the boolean outcome of an expression.\n",
    "\n",
    "...to create ever more complex conditionals.\n",
    "\n",
    "It is preferred in Python to use the keywords for readability, and to avoid unexpected output if parenthesis aren't used.\n",
    "\n",
    "See if you can predict the outcome of the following expressions:"
   ]
  },
  {
   "cell_type": "code",
   "execution_count": null,
   "metadata": {
    "collapsed": true
   },
   "outputs": [],
   "source": [
    "x = 3\n",
    "y = 10\n",
    "z = -1"
   ]
  },
  {
   "cell_type": "code",
   "execution_count": null,
   "metadata": {},
   "outputs": [],
   "source": [
    "x == 3 and y == 10"
   ]
  },
  {
   "cell_type": "code",
   "execution_count": null,
   "metadata": {},
   "outputs": [],
   "source": [
    "x == 3 and y == 7"
   ]
  },
  {
   "cell_type": "code",
   "execution_count": null,
   "metadata": {},
   "outputs": [],
   "source": [
    "x == 3 or y == 7"
   ]
  },
  {
   "cell_type": "code",
   "execution_count": null,
   "metadata": {},
   "outputs": [],
   "source": [
    "not x == 3 or y == 7"
   ]
  },
  {
   "cell_type": "code",
   "execution_count": null,
   "metadata": {},
   "outputs": [],
   "source": [
    "# Not applies the first expression only\n",
    "not y == 7 or x == 3"
   ]
  },
  {
   "cell_type": "code",
   "execution_count": null,
   "metadata": {},
   "outputs": [],
   "source": [
    "# Not applies to the expression within the brackets\n",
    "not(y == 7 or x == 3)"
   ]
  },
  {
   "cell_type": "code",
   "execution_count": null,
   "metadata": {},
   "outputs": [],
   "source": [
    "x != 32 and y != 5"
   ]
  },
  {
   "cell_type": "code",
   "execution_count": null,
   "metadata": {},
   "outputs": [],
   "source": [
    "# Parenthesis aren't used. We expect True. Evaluates to False\n",
    "x <= 3 & y >= 7"
   ]
  },
  {
   "cell_type": "code",
   "execution_count": null,
   "metadata": {},
   "outputs": [],
   "source": [
    "# Using parenthesis. It evaluates to True.\n",
    "(x <= 3) & (y >= 7)"
   ]
  },
  {
   "cell_type": "code",
   "execution_count": null,
   "metadata": {},
   "outputs": [],
   "source": [
    "# No parenthesis\n",
    "z < 0 | y > 15"
   ]
  },
  {
   "cell_type": "code",
   "execution_count": null,
   "metadata": {},
   "outputs": [],
   "source": [
    "# Parenthesis\n",
    "(z < 0) | (y > 15)"
   ]
  },
  {
   "cell_type": "code",
   "execution_count": null,
   "metadata": {
    "collapsed": true
   },
   "outputs": [],
   "source": [
    "# Some space for you test this out by yourself\n",
    "\n"
   ]
  },
  {
   "cell_type": "markdown",
   "metadata": {},
   "source": [
    "### Generating random integers\n",
    "Python has a standard library for random number generation (available with the core Python distribution). The library is ismpyl called `random`. We will need to import `random` and then use it as a namespace to access the functions within the module.\n",
    "\n",
    "The particular function that we need within `random` is `randint()`. Let's import this library and look at the docs for `randint()`."
   ]
  },
  {
   "cell_type": "code",
   "execution_count": null,
   "metadata": {},
   "outputs": [],
   "source": [
    "import random\n",
    "help(random.randint)"
   ]
  },
  {
   "cell_type": "markdown",
   "metadata": {},
   "source": [
    "This seems fairly straightforward, just pass the function two endpoints `a` and `b` and the function will return a random integer."
   ]
  },
  {
   "cell_type": "code",
   "execution_count": null,
   "metadata": {},
   "outputs": [],
   "source": [
    "random.randint(1, 10)"
   ]
  },
  {
   "cell_type": "markdown",
   "metadata": {},
   "source": [
    "### Sets and set theory\n",
    "In the [w3schools Python tutorial for lists](https://www.w3schools.com/python/python_lists.asp), it gives the following definitions for the four collection data types in Python:\n",
    "\n",
    "* **List** is a collection which is ordered and changeable. Allows duplicate members.\n",
    "* **Tuple** is a collection which is ordered and unchangeable. Allows duplicate members.\n",
    "* **Set** is a collection which is unordered and unindexed. No duplicate members.\n",
    "* **Dictionary** is a collection which is unordered, changeable and indexed. No duplicate members.\n",
    "\n",
    "Notice that a set is unordered and unindexed, allowing *no duplicate members*. You can convert a list to a set and a set to a list by using the `set()` and `list()` functions respectively. However, notice you might lose the order. \n"
   ]
  },
  {
   "cell_type": "code",
   "execution_count": null,
   "metadata": {},
   "outputs": [],
   "source": [
    "a = [1, 5, 9, 10]\n",
    "a = set(a)\n",
    "print(a)"
   ]
  },
  {
   "cell_type": "code",
   "execution_count": null,
   "metadata": {},
   "outputs": [],
   "source": [
    "# If we convert back to our list we may lose the order\n",
    "list(a)"
   ]
  },
  {
   "cell_type": "code",
   "execution_count": null,
   "metadata": {},
   "outputs": [],
   "source": [
    "# Creating a set removes the duplicates\n",
    "a = [1, 1 , 2]\n",
    "b = [2, 2, 3]\n",
    "print(a + b)\n",
    "print(set(a + b))"
   ]
  },
  {
   "cell_type": "markdown",
   "metadata": {},
   "source": [
    "To complete the second part of extras it will be helpful to know some set theory. Check out [Intersection](https://en.wikipedia.org/wiki/Intersection_(set_theory)) on Wikipedia. An intersection between two sets is illustrated below. Type `help(set)` in a cell block and see if you can find the method to perform an intersection. \n",
    "![](intersection.png)"
   ]
  },
  {
   "cell_type": "code",
   "execution_count": null,
   "metadata": {},
   "outputs": [],
   "source": [
    "help(set)"
   ]
  },
  {
   "cell_type": "markdown",
   "metadata": {},
   "source": [
    "### Back to the challenge\n",
    "\n",
    "This week's second challenge is this:\n",
    "\n",
    "> Take two lists, say for example these two:\n",
    "\n",
    "> a = [1, 1, 2, 3, 5, 8, 13, 21, 34, 55, 89]\n",
    "  \n",
    "> b = [1, 2, 3, 4, 5, 6, 7, 8, 9, 10, 11, 12, 13]\n",
    "  \n",
    ">and write a program that returns a list that contains only the elements that are common between the lists (**without duplicates**). Make sure your program works on two lists of different sizes.\n",
    "\n",
    "**Extras:**\n",
    "\n",
    "1. Randomly generate two lists to test this\n",
    "2. Write this in one line of Python (don’t worry if you can’t figure this out at this point - we’ll get to it soon)\n"
   ]
  },
  {
   "cell_type": "code",
   "execution_count": null,
   "metadata": {
    "collapsed": true
   },
   "outputs": [],
   "source": [
    "# Use the cell/s below to write your solution\n",
    "\n"
   ]
  },
  {
   "cell_type": "code",
   "execution_count": null,
   "metadata": {
    "collapsed": true
   },
   "outputs": [],
   "source": []
  },
  {
   "cell_type": "code",
   "execution_count": null,
   "metadata": {
    "collapsed": true
   },
   "outputs": [],
   "source": []
  },
  {
   "cell_type": "code",
   "execution_count": null,
   "metadata": {},
   "outputs": [],
   "source": [
    "# Type solution() below to reveal the solution\n",
    "from list_overlap import solution\n",
    "solution()"
   ]
  }
 ],
 "metadata": {
  "kernelspec": {
   "display_name": "Python 3",
   "language": "python",
   "name": "python3"
  },
  "language_info": {
   "codemirror_mode": {
    "name": "ipython",
    "version": 3
   },
   "file_extension": ".py",
   "mimetype": "text/x-python",
   "name": "python",
   "nbconvert_exporter": "python",
   "pygments_lexer": "ipython3",
   "version": "3.6.9"
  }
 },
 "nbformat": 4,
 "nbformat_minor": 2
}
