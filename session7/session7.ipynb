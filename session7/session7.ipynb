{
 "cells": [
  {
   "cell_type": "markdown",
   "metadata": {},
   "source": [
    "# Challenge 1 - List Ends\n",
    "\n",
    "The first challenge this week is:\n",
    "\n",
    "> Write a program that takes a list of numbers (for example, `a = [5, 10, 15, 20, 25]`) and makes a new list of only the first and last elements of the given list. For practice, write this code inside a function.\n",
    "\n",
    "The concepts covered in this challenge are:\n",
    "* Lists and properties of lists\n",
    "* Functions\n",
    "\n",
    "To complete this challenge properly you must create a function/s. For an extra challenge execute the function within a `main()` function and then add it within the `if __name__ == \"__main__\"` boilerplate code to ensure it only executes when you run the script as the `\"__main__\"` module i.e. cliking \"run\" on that module and not importing it. I'll repeat the section from last week on this below.\n",
    "\n",
    "### Negative indexing\n",
    "A useful property of lists that you will find helpful in this task is negative indexing - this allows you to select beginning from the end of a list. Unlike positive indexing, the last element starts at -1 (rather than 0).\n",
    "\n",
    "Here's a quick demo:"
   ]
  },
  {
   "cell_type": "code",
   "execution_count": 1,
   "metadata": {},
   "outputs": [
    {
     "name": "stdout",
     "output_type": "stream",
     "text": [
      "['get', 'these', 'items']\n"
     ]
    }
   ],
   "source": [
    "my_list = ['cherries', 'berries', 'ferries', 'terrys', 'get', 'these', 'items']\n",
    "print(my_list[-3:])"
   ]
  },
  {
   "cell_type": "markdown",
   "metadata": {},
   "source": [
    "### Controlling flow with `main()`\n",
    "A nice benefit of having everything in functions is that you can control the execution of your code. When a function is defined the code is not run, it's only run when it's called.\n",
    "\n",
    "Typical practice in functional programming, is to have one function called `main()` which calls all the necessary functions for the module to perform it's task. You will see examples of this when you look at the solutions to this weeks challenges.\n",
    "\n",
    "Another thing that you will see in the solutions is the following code:"
   ]
  },
  {
   "cell_type": "code",
   "execution_count": null,
   "metadata": {},
   "outputs": [],
   "source": [
    "# Don't run, just for demonstration\n",
    "if __name__ == \"__main__\":\n",
    "    main()"
   ]
  },
  {
   "cell_type": "markdown",
   "metadata": {},
   "source": [
    "This piece of code is necessary to control the execution of a module when importing the module from another. When you use `import` to import a module, the code in that module is executed (only once per Python session). If you are not controlling your flow of execution with the code above, then all the code that is not within functions will be executed. There might be a load of print statements that we don't want to see. It may initiate a game and ask for user input. We don't want this - we just want access tto the functions, classes and variables within the module.\n",
    "\n",
    "Essentially, what the boilerplate code above tells Python to do, is to only execute `main()` if the module is being run directly. In this instance, Python sets the internal attribute `__name__` to `\"__main__\"`, hence why we have the conditional above checking for equality.\n",
    "\n",
    "Therefore, if you are importing this module into another, it will load the functions into the namespace of your import, but it won't actually execute any of the code (until you tell it to!).\n",
    "\n",
    "### Other areas to recap\n",
    "\n",
    "Here's some recap materials to help you solve today's challenges:\n",
    "\n",
    "* (w3schools Python tutorial on functions)[https://www.w3schools.com/python/python_functions.asp]\n",
    "* (w3schools Python tutorial on scope)[https://www.w3schools.com/python/python_scope.asp]\n",
    "\n",
    "##### A quick few points on scope\n",
    "\n",
    "A variable is only available from inside the region it is created. This is called scope. The order of Python scope is defined as LEGB (Local, Enclosing, Global, Built-in). When you define a variable inside a function you are creating in the local scope for that function. Therefore when the function finishes exiting that local variable will no longer be available (unless it is returned using `return` to the enclosing scope or global scope). If the variable being used doesn't exist in the scope where the code is being executed, then Python will look in the outer scopes in turn to see if it kind find a variable of that name. If it doesn't exist you will get an error. \n",
    "\n",
    "It is generally good practice to avoid using global variables and keep execution within functions using local variables or function arguments.\n",
    "\n",
    "### Back to the challenge\n",
    "\n",
    "> Write a program that takes a list of numbers (for example, a = [5, 10, 15, 20, 25]) and makes a new list of only the first and last elements of the given list. For practice, write this code inside a function."
   ]
  },
  {
   "cell_type": "code",
   "execution_count": null,
   "metadata": {},
   "outputs": [],
   "source": [
    "# Write your solution in the following cell/s\n"
   ]
  },
  {
   "cell_type": "code",
   "execution_count": null,
   "metadata": {},
   "outputs": [],
   "source": []
  },
  {
   "cell_type": "code",
   "execution_count": null,
   "metadata": {},
   "outputs": [],
   "source": []
  },
  {
   "cell_type": "code",
   "execution_count": 2,
   "metadata": {},
   "outputs": [],
   "source": [
    "# To get the solution, import list_ends and call list_ends.solution() or view the script in the session folder\n"
   ]
  },
  {
   "cell_type": "markdown",
   "metadata": {},
   "source": [
    "# Challenge 2\n",
    "The second challenge this week is:\n",
    "\n",
    "> Write a program that asks the user how many Fibonnaci numbers to generate and then generates them. Take this opportunity to think about how you can use functions. Make sure to ask the user to enter the number of numbers in the sequence to generate.(Hint: The Fibonnaci seqence is a sequence of numbers where the next number in the sequence is the sum of the previous two numbers in the sequence. The sequence looks like this: 1, 1, 2, 3, 5, 8, 13, …)\n",
    "\n",
    "You should already have all the knowledge to solve this challenge. Create functions to solve it. You may need to use `if` statements and conditionals to solve the special cases."
   ]
  },
  {
   "cell_type": "code",
   "execution_count": null,
   "metadata": {},
   "outputs": [],
   "source": [
    "# Write your solution in the following cell/s\n"
   ]
  },
  {
   "cell_type": "code",
   "execution_count": null,
   "metadata": {},
   "outputs": [],
   "source": []
  },
  {
   "cell_type": "code",
   "execution_count": null,
   "metadata": {},
   "outputs": [],
   "source": []
  },
  {
   "cell_type": "code",
   "execution_count": 2,
   "metadata": {},
   "outputs": [],
   "source": [
    "# To get the solution, import fibonacci and call fibonacci.solution() or view the script in the session folder\n"
   ]
  },
  {
   "cell_type": "markdown",
   "metadata": {},
   "source": [
    "# Challenge 3\n",
    "The third chalenge this week is:\n",
    "\n",
    "> Write a program (function!) that takes a list and returns a new list that contains all the elements of the first list minus all the duplicates.\n",
    "\n",
    "Extras:\n",
    "* Write two different functions to do this - one using a loop and constructing a list, and another using sets.\n",
    "\n",
    "Concepts for this challege:\n",
    "* Sets\n",
    "\n",
    "### Sets\n",
    "A set in mathematics is a collection of elements where no element is repeated. If data is stored in a set then you are guaranteed to have unique elements. Sets have some important differences to lists in Python:\n",
    "\n",
    "* Sets are **unordered and unindexed**. This means that there is no \"first element\" or \"last element\", just \"elements\".\n",
    "* There are no repeat elements in sets.\n",
    "* You can convert between sets and lists very easily.\n",
    "\n",
    "In Python you can make and use sets with the `set()` keyword or by defining them using curly brackets. The following cells will demonstrate creating sets."
   ]
  },
  {
   "cell_type": "code",
   "execution_count": 3,
   "metadata": {},
   "outputs": [
    {
     "name": "stdout",
     "output_type": "stream",
     "text": [
      "{'tricerotops', 'pterodactyl', 'pachycephalosaurus', 't-rex', 'stegosaurus', 'velicoraptor'}\n"
     ]
    }
   ],
   "source": [
    "# Notice set takes a tuple as an argument, hence the double brackets\n",
    "dinosaurs = set(('tricerotops', 't-rex'))\n",
    "dinosaurs.add('stegosaurus')\n",
    "dinosaurs.update(('velicoraptor', 'pterodactyl', 'pachycephalosaurus'))\n",
    "print(dinosaurs)"
   ]
  },
  {
   "cell_type": "code",
   "execution_count": 4,
   "metadata": {},
   "outputs": [
    {
     "name": "stdout",
     "output_type": "stream",
     "text": [
      "{'insaniac', 'archer', 'chip hazard', 'ocula', 'brick bazooka'}\n"
     ]
    }
   ],
   "source": [
    "small_soldiers = {'archer', 'ocula', 'chip hazard', 'insaniac', 'brick bazooka'}\n",
    "print(small_soldiers)"
   ]
  },
  {
   "cell_type": "markdown",
   "metadata": {},
   "source": [
    "You can do most things to a set that you can do to a list, except change specific elements. Check out the (Python w3schools tutorial on sets)[https://www.w3schools.com/python/python_sets.asp] to learn more.\n",
    "\n",
    "You can also convert a list to a set and a set to a list very easily, although you are likely to lose the order of the list."
   ]
  },
  {
   "cell_type": "code",
   "execution_count": 8,
   "metadata": {
    "scrolled": true
   },
   "outputs": [
    {
     "name": "stdout",
     "output_type": "stream",
     "text": [
      "['itv', 'channel4', 'bbc1', 'channel5', 'bbc2']\n"
     ]
    }
   ],
   "source": [
    "channels = ['bbc1', 'bbc2', 'itv', 'channel4', 'channel5', 'bbc1']\n",
    "channels = set(channels)\n",
    "channels = list(channels)\n",
    "print(channels)"
   ]
  },
  {
   "cell_type": "markdown",
   "metadata": {},
   "source": [
    "### Back to the challenge\n",
    "\n",
    "> Write a program (function!) that takes a list and returns a new list that contains all the elements of the first list minus all the duplicates."
   ]
  },
  {
   "cell_type": "code",
   "execution_count": null,
   "metadata": {},
   "outputs": [],
   "source": [
    "# Write your solution in the following cell/s\n"
   ]
  },
  {
   "cell_type": "code",
   "execution_count": null,
   "metadata": {},
   "outputs": [],
   "source": []
  },
  {
   "cell_type": "code",
   "execution_count": null,
   "metadata": {},
   "outputs": [],
   "source": []
  },
  {
   "cell_type": "code",
   "execution_count": null,
   "metadata": {},
   "outputs": [],
   "source": [
    "# To get the solution, import list_remove_duplicates and call list_remove_duplicates.solution() \n",
    "# or view the script in the session folder\n"
   ]
  },
  {
   "cell_type": "markdown",
   "metadata": {},
   "source": [
    "# Challenge 4\n",
    "Yes you lucky devils you have four challenges this week. Here is the challenge:\n",
    "\n",
    ">Write a program (using functions!) that asks the user for a long string containing multiple words. Print back to the user the same string, except with the words in backwards order. For example, say I type the string \"Never eat yellow snow\", then I would see the string \"snow yellow eat Never\" shown back to me.\n",
    "\n",
    "Concepts for this challenge:\n",
    "* String methods\n",
    "\n",
    "### String methods\n",
    "Python has many different built-in methods for manipulating strings. A few will be deomnstrated below, check out the (Python documentation on string methods)[https://docs.python.org/3.3/library/stdtypes.html?highlight=strings#string-methods] for a full list.\n",
    "\n",
    "Remember that strings are iterables, just like lists.\n",
    "\n",
    "#### Splitting strings\n",
    "You can split strings based on a given set of characters.\n",
    "\n"
   ]
  },
  {
   "cell_type": "code",
   "execution_count": 10,
   "metadata": {
    "scrolled": true
   },
   "outputs": [
    {
     "name": "stdout",
     "output_type": "stream",
     "text": [
      "['Star Wars episode V', ' is the best one.']\n"
     ]
    }
   ],
   "source": [
    "statement = \"Star Wars episode VI is the best one.\"\n",
    "statement = statement.split('I')\n",
    "print(statement)"
   ]
  },
  {
   "cell_type": "markdown",
   "metadata": {},
   "source": [
    "The `.join()` method will join up a list of strings using the string that it's called on, in this case just an empty string"
   ]
  },
  {
   "cell_type": "code",
   "execution_count": 11,
   "metadata": {},
   "outputs": [
    {
     "data": {
      "text/plain": [
       "'Star Wars episode V is the best one.'"
      ]
     },
     "execution_count": 11,
     "metadata": {},
     "output_type": "execute_result"
    }
   ],
   "source": [
    "''.join(statement)\n",
    "# That's better"
   ]
  },
  {
   "cell_type": "code",
   "execution_count": 12,
   "metadata": {
    "scrolled": true
   },
   "outputs": [
    {
     "name": "stdout",
     "output_type": "stream",
     "text": [
      "['Superca', 'fragi', 'sticexpia', 'docious']\n"
     ]
    }
   ],
   "source": [
    "long_word = 'Supercalifragilisticexpialidocious'\n",
    "long_word = long_word.split('li')\n",
    "print(long_word)"
   ]
  },
  {
   "cell_type": "markdown",
   "metadata": {},
   "source": [
    "If you do not put a character in the `.split()` method then it will split on whitespace."
   ]
  },
  {
   "cell_type": "code",
   "execution_count": 13,
   "metadata": {},
   "outputs": [
    {
     "name": "stdout",
     "output_type": "stream",
     "text": [
      "['Show', 'me', 'the', 'money']\n"
     ]
    }
   ],
   "source": [
    "s = 'Show me the money'\n",
    "s = s.split()\n",
    "print(s)"
   ]
  },
  {
   "cell_type": "code",
   "execution_count": 15,
   "metadata": {
    "scrolled": true
   },
   "outputs": [
    {
     "name": "stdout",
     "output_type": "stream",
     "text": [
      "a**b**c**d**e\n"
     ]
    }
   ],
   "source": [
    "# Another example of using join\n",
    "ls = ['a', 'b', 'c', 'd', 'e']\n",
    "joined = '**'.join(ls)\n",
    "print(joined)"
   ]
  },
  {
   "cell_type": "markdown",
   "metadata": {},
   "source": [
    "### Back to the challenge\n",
    "\n",
    "> Write a program (using functions!) that asks the user for a long string containing multiple words. Print back to the user the same string, except with the words in backwards order. For example, say I type the string \"Never eat yellow snow\", then I would see the string \"snow yellow eat Never\" shown back to me.\n",
    "\n",
    "You will probably also need the list `.reverse()` method to complete this challenge.\n",
    "\n",
    "I hope you have enjoyed this week!"
   ]
  },
  {
   "cell_type": "code",
   "execution_count": null,
   "metadata": {},
   "outputs": [],
   "source": [
    "# Write your solution in the following cell/s\n"
   ]
  },
  {
   "cell_type": "code",
   "execution_count": null,
   "metadata": {},
   "outputs": [],
   "source": []
  },
  {
   "cell_type": "code",
   "execution_count": null,
   "metadata": {},
   "outputs": [],
   "source": []
  },
  {
   "cell_type": "code",
   "execution_count": null,
   "metadata": {},
   "outputs": [],
   "source": [
    "# To get the solution, import reverse_word_order and call reverse_word_order.solution() \n",
    "# or view the script in the session folder\n"
   ]
  }
 ],
 "metadata": {
  "kernelspec": {
   "display_name": "Python 3",
   "language": "python",
   "name": "python3"
  },
  "language_info": {
   "codemirror_mode": {
    "name": "ipython",
    "version": 3
   },
   "file_extension": ".py",
   "mimetype": "text/x-python",
   "name": "python",
   "nbconvert_exporter": "python",
   "pygments_lexer": "ipython3",
   "version": "3.6.9"
  }
 },
 "nbformat": 4,
 "nbformat_minor": 2
}
